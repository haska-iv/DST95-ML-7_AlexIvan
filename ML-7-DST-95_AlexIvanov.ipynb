{
 "cells": [
  {
   "cell_type": "markdown",
   "id": "AoeSkz4KaANH",
   "metadata": {
    "id": "AoeSkz4KaANH"
   },
   "source": [
    "# ML-7. Оптимизация гиперпараметров модели"
   ]
  },
  {
   "cell_type": "markdown",
   "id": "203fb80e-a314-4876-850c-5e4913f78563",
   "metadata": {
    "id": "203fb80e-a314-4876-850c-5e4913f78563",
    "tags": []
   },
   "source": [
    "## 2. DST-95 Aleksandr Ivanov"
   ]
  },
  {
   "cell_type": "code",
   "execution_count": 1,
   "id": "d8q91-MSaAOG",
   "metadata": {
    "id": "d8q91-MSaAOG"
   },
   "outputs": [],
   "source": [
    "#импорт библиотек\n",
    "import numpy as np #для матричных вычислений\n",
    "import pandas as pd #для анализа и предобработки данных\n",
    "import matplotlib.pyplot as plt #для визуализации\n",
    "import seaborn as sns #для визуализации\n",
    "\n",
    "from sklearn import linear_model #линейные моделиё\n",
    "from sklearn import tree #деревья решений\n",
    "from sklearn import ensemble #ансамбли\n",
    "from sklearn import metrics #метрики\n",
    "from sklearn import preprocessing #предобработка\n",
    "from sklearn.model_selection import train_test_split #сплитование выборки\n",
    "\n",
    "%matplotlib inline\n",
    "plt.style.use('seaborn')"
   ]
  },
  {
   "cell_type": "markdown",
   "id": "ezanmTbEaAOe",
   "metadata": {
    "id": "ezanmTbEaAOe",
    "tags": []
   },
   "source": [
    "### Описание задачи"
   ]
  },
  {
   "cell_type": "markdown",
   "id": "8SprnF5HaAOj",
   "metadata": {
    "id": "8SprnF5HaAOj"
   },
   "source": [
    "Необходимо предсказать биологический ответ молекул (столбец 'Activity') по их химическому составу (столбцы D1-D1776).\n"
   ]
  },
  {
   "cell_type": "markdown",
   "id": "8lbyun1kaAOy",
   "metadata": {
    "id": "8lbyun1kaAOy",
    "tags": []
   },
   "source": [
    "### Data Upload (no need EDA)"
   ]
  },
  {
   "cell_type": "code",
   "execution_count": 2,
   "id": "p770SmlfaAO3",
   "metadata": {
    "colab": {
     "base_uri": "https://localhost:8080/",
     "height": 223
    },
    "executionInfo": {
     "elapsed": 40242,
     "status": "ok",
     "timestamp": 1650553529870,
     "user": {
      "displayName": "VICDS _",
      "userId": "16539764637744847477"
     },
     "user_tz": -180
    },
    "id": "p770SmlfaAO3",
    "outputId": "d6f8209e-05bf-452c-dd16-2f5725c31f1a"
   },
   "outputs": [
    {
     "data": {
      "text/html": [
       "<div>\n",
       "<style scoped>\n",
       "    .dataframe tbody tr th:only-of-type {\n",
       "        vertical-align: middle;\n",
       "    }\n",
       "\n",
       "    .dataframe tbody tr th {\n",
       "        vertical-align: top;\n",
       "    }\n",
       "\n",
       "    .dataframe thead th {\n",
       "        text-align: right;\n",
       "    }\n",
       "</style>\n",
       "<table border=\"1\" class=\"dataframe\">\n",
       "  <thead>\n",
       "    <tr style=\"text-align: right;\">\n",
       "      <th></th>\n",
       "      <th>Activity</th>\n",
       "      <th>D1</th>\n",
       "      <th>D2</th>\n",
       "      <th>D3</th>\n",
       "      <th>D4</th>\n",
       "      <th>D5</th>\n",
       "      <th>D6</th>\n",
       "      <th>D7</th>\n",
       "      <th>D8</th>\n",
       "      <th>D9</th>\n",
       "      <th>...</th>\n",
       "      <th>D1767</th>\n",
       "      <th>D1768</th>\n",
       "      <th>D1769</th>\n",
       "      <th>D1770</th>\n",
       "      <th>D1771</th>\n",
       "      <th>D1772</th>\n",
       "      <th>D1773</th>\n",
       "      <th>D1774</th>\n",
       "      <th>D1775</th>\n",
       "      <th>D1776</th>\n",
       "    </tr>\n",
       "  </thead>\n",
       "  <tbody>\n",
       "    <tr>\n",
       "      <th>0</th>\n",
       "      <td>1</td>\n",
       "      <td>0.000000</td>\n",
       "      <td>0.497009</td>\n",
       "      <td>0.10</td>\n",
       "      <td>0.0</td>\n",
       "      <td>0.132956</td>\n",
       "      <td>0.678031</td>\n",
       "      <td>0.273166</td>\n",
       "      <td>0.585445</td>\n",
       "      <td>0.743663</td>\n",
       "      <td>...</td>\n",
       "      <td>0</td>\n",
       "      <td>0</td>\n",
       "      <td>0</td>\n",
       "      <td>0</td>\n",
       "      <td>0</td>\n",
       "      <td>0</td>\n",
       "      <td>0</td>\n",
       "      <td>0</td>\n",
       "      <td>0</td>\n",
       "      <td>0</td>\n",
       "    </tr>\n",
       "    <tr>\n",
       "      <th>1</th>\n",
       "      <td>1</td>\n",
       "      <td>0.366667</td>\n",
       "      <td>0.606291</td>\n",
       "      <td>0.05</td>\n",
       "      <td>0.0</td>\n",
       "      <td>0.111209</td>\n",
       "      <td>0.803455</td>\n",
       "      <td>0.106105</td>\n",
       "      <td>0.411754</td>\n",
       "      <td>0.836582</td>\n",
       "      <td>...</td>\n",
       "      <td>1</td>\n",
       "      <td>1</td>\n",
       "      <td>1</td>\n",
       "      <td>1</td>\n",
       "      <td>0</td>\n",
       "      <td>1</td>\n",
       "      <td>0</td>\n",
       "      <td>0</td>\n",
       "      <td>1</td>\n",
       "      <td>0</td>\n",
       "    </tr>\n",
       "    <tr>\n",
       "      <th>2</th>\n",
       "      <td>1</td>\n",
       "      <td>0.033300</td>\n",
       "      <td>0.480124</td>\n",
       "      <td>0.00</td>\n",
       "      <td>0.0</td>\n",
       "      <td>0.209791</td>\n",
       "      <td>0.610350</td>\n",
       "      <td>0.356453</td>\n",
       "      <td>0.517720</td>\n",
       "      <td>0.679051</td>\n",
       "      <td>...</td>\n",
       "      <td>0</td>\n",
       "      <td>0</td>\n",
       "      <td>0</td>\n",
       "      <td>0</td>\n",
       "      <td>0</td>\n",
       "      <td>0</td>\n",
       "      <td>0</td>\n",
       "      <td>0</td>\n",
       "      <td>0</td>\n",
       "      <td>0</td>\n",
       "    </tr>\n",
       "    <tr>\n",
       "      <th>3</th>\n",
       "      <td>1</td>\n",
       "      <td>0.000000</td>\n",
       "      <td>0.538825</td>\n",
       "      <td>0.00</td>\n",
       "      <td>0.5</td>\n",
       "      <td>0.196344</td>\n",
       "      <td>0.724230</td>\n",
       "      <td>0.235606</td>\n",
       "      <td>0.288764</td>\n",
       "      <td>0.805110</td>\n",
       "      <td>...</td>\n",
       "      <td>0</td>\n",
       "      <td>0</td>\n",
       "      <td>0</td>\n",
       "      <td>0</td>\n",
       "      <td>0</td>\n",
       "      <td>0</td>\n",
       "      <td>0</td>\n",
       "      <td>0</td>\n",
       "      <td>0</td>\n",
       "      <td>0</td>\n",
       "    </tr>\n",
       "    <tr>\n",
       "      <th>4</th>\n",
       "      <td>0</td>\n",
       "      <td>0.100000</td>\n",
       "      <td>0.517794</td>\n",
       "      <td>0.00</td>\n",
       "      <td>0.0</td>\n",
       "      <td>0.494734</td>\n",
       "      <td>0.781422</td>\n",
       "      <td>0.154361</td>\n",
       "      <td>0.303809</td>\n",
       "      <td>0.812646</td>\n",
       "      <td>...</td>\n",
       "      <td>0</td>\n",
       "      <td>0</td>\n",
       "      <td>0</td>\n",
       "      <td>0</td>\n",
       "      <td>0</td>\n",
       "      <td>0</td>\n",
       "      <td>0</td>\n",
       "      <td>0</td>\n",
       "      <td>0</td>\n",
       "      <td>0</td>\n",
       "    </tr>\n",
       "  </tbody>\n",
       "</table>\n",
       "<p>5 rows × 1777 columns</p>\n",
       "</div>"
      ],
      "text/plain": [
       "   Activity        D1        D2    D3   D4        D5        D6        D7  \\\n",
       "0         1  0.000000  0.497009  0.10  0.0  0.132956  0.678031  0.273166   \n",
       "1         1  0.366667  0.606291  0.05  0.0  0.111209  0.803455  0.106105   \n",
       "2         1  0.033300  0.480124  0.00  0.0  0.209791  0.610350  0.356453   \n",
       "3         1  0.000000  0.538825  0.00  0.5  0.196344  0.724230  0.235606   \n",
       "4         0  0.100000  0.517794  0.00  0.0  0.494734  0.781422  0.154361   \n",
       "\n",
       "         D8        D9  ...  D1767  D1768  D1769  D1770  D1771  D1772  D1773  \\\n",
       "0  0.585445  0.743663  ...      0      0      0      0      0      0      0   \n",
       "1  0.411754  0.836582  ...      1      1      1      1      0      1      0   \n",
       "2  0.517720  0.679051  ...      0      0      0      0      0      0      0   \n",
       "3  0.288764  0.805110  ...      0      0      0      0      0      0      0   \n",
       "4  0.303809  0.812646  ...      0      0      0      0      0      0      0   \n",
       "\n",
       "   D1774  D1775  D1776  \n",
       "0      0      0      0  \n",
       "1      0      1      0  \n",
       "2      0      0      0  \n",
       "3      0      0      0  \n",
       "4      0      0      0  \n",
       "\n",
       "[5 rows x 1777 columns]"
      ]
     },
     "execution_count": 2,
     "metadata": {},
     "output_type": "execute_result"
    }
   ],
   "source": [
    "data = pd.read_csv('data/_train_sem09.csv')\n",
    "\n",
    "data.head()"
   ]
  },
  {
   "cell_type": "markdown",
   "id": "0jbyUoPlaAPc",
   "metadata": {
    "id": "0jbyUoPlaAPc"
   },
   "source": [
    "Смотрим на сбалансированность классов:"
   ]
  },
  {
   "cell_type": "code",
   "execution_count": 3,
   "id": "PPo2xmRdaAPf",
   "metadata": {
    "colab": {
     "base_uri": "https://localhost:8080/",
     "height": 361
    },
    "executionInfo": {
     "elapsed": 1087,
     "status": "ok",
     "timestamp": 1650553530901,
     "user": {
      "displayName": "VICDS _",
      "userId": "16539764637744847477"
     },
     "user_tz": -180
    },
    "id": "PPo2xmRdaAPf",
    "outputId": "4db04fd7-a921-4f20-ce92-b8294d0f3d2a"
   },
   "outputs": [
    {
     "data": {
      "image/png": "[encoded data removed]",
      "text/plain": [
       "<Figure size 576x396 with 1 Axes>"
      ]
     },
     "metadata": {},
     "output_type": "display_data"
    }
   ],
   "source": [
    "sns.countplot(data=data, x='Activity');"
   ]
  },
  {
   "cell_type": "markdown",
   "id": "28a33a74",
   "metadata": {},
   "source": [
    "Внешне похоже на то, что наши классы сбалансированы."
   ]
  },
  {
   "cell_type": "code",
   "execution_count": 4,
   "id": "_2GncsCbaAQY",
   "metadata": {
    "id": "_2GncsCbaAQY"
   },
   "outputs": [],
   "source": [
    "X = data.drop(['Activity'], axis=1)\n",
    "y = data['Activity']"
   ]
  },
  {
   "cell_type": "markdown",
   "id": "q4SyRSFhaAQZ",
   "metadata": {
    "id": "q4SyRSFhaAQZ"
   },
   "source": [
    "Разделяем выборку на тренировочную и тестовую в соотношении 80/20. Для сохранения соотношений целевого признака используем параметр stratify (стратифицированное разбиение), что незначительно повысит точность предсказаний. Стратификация обязательно применяется для разбалансированных классов."
   ]
  },
  {
   "cell_type": "code",
   "execution_count": 5,
   "id": "Fl_eJIInaAQa",
   "metadata": {
    "id": "Fl_eJIInaAQa"
   },
   "outputs": [],
   "source": [
    "X_train, X_test, y_train, y_test = train_test_split(X, y, stratify=y, random_state = 1, test_size = 0.2)"
   ]
  },
  {
   "cell_type": "markdown",
   "id": "H7DZBta2aAQf",
   "metadata": {
    "id": "H7DZBta2aAQf",
    "tags": []
   },
   "source": [
    "### Оптимизация гиперпараметров модели"
   ]
  },
  {
   "cell_type": "markdown",
   "id": "CE7v-medaAQh",
   "metadata": {
    "id": "CE7v-medaAQh",
    "tags": []
   },
   "source": [
    "#### **Логистическая регрессия**"
   ]
  },
  {
   "cell_type": "markdown",
   "id": "5b6d603a-1ce0-414e-b095-e0f61113c0e7",
   "metadata": {
    "id": "5b6d603a-1ce0-414e-b095-e0f61113c0e7"
   },
   "source": [
    "Зафиксируем только метрики, которые были получены без дополнительной настройки, т.е со значениями гиперпараметров, установленных по умолчанию:"
   ]
  },
  {
   "cell_type": "code",
   "execution_count": 6,
   "id": "0aMCHU3-aAQn",
   "metadata": {
    "colab": {
     "base_uri": "https://localhost:8080/"
    },
    "executionInfo": {
     "elapsed": 160,
     "status": "ok",
     "timestamp": 1650547896821,
     "user": {
      "displayName": "VICDS _",
      "userId": "16539764637744847477"
     },
     "user_tz": -180
    },
    "id": "0aMCHU3-aAQn",
    "outputId": "ce2823fa-1cb5-4ec5-dd51-fec74d3ccd33"
   },
   "outputs": [
    {
     "name": "stdout",
     "output_type": "stream",
     "text": [
      "f1_score на обучающем наборе: 0.88\n",
      "f1_score на тестовом наборе: 0.78\n"
     ]
    }
   ],
   "source": [
    "#Создаем объект класса логистическая регрессия\n",
    "#установим параметры лог регрессии, по традиции random_state зададим на уровне 42, а количество мах итераций 500 (для избежания ошибок алгоритма оптимизации)\n",
    "log_reg = linear_model.LogisticRegression(random_state = 42, max_iter=500)\n",
    "#Обучаем модель, минимизируя logloss\n",
    "log_reg.fit(X_train, y_train)\n",
    "y_train_pred = log_reg.predict(X_train)\n",
    "print('f1_score на обучающем наборе: {:.2f}'.format(metrics.f1_score(y_train, y_train_pred)))\n",
    "y_test_pred = log_reg.predict(X_test)\n",
    "print('f1_score на тестовом наборе: {:.2f}'.format(metrics.f1_score(y_test, y_test_pred)))"
   ]
  },
  {
   "cell_type": "code",
   "execution_count": 7,
   "id": "6cbe6598",
   "metadata": {},
   "outputs": [
    {
     "name": "stdout",
     "output_type": "stream",
     "text": [
      "f1_score на обучающем наборе: 1.00\n",
      "f1_score на тестовом наборе: 0.81\n"
     ]
    }
   ],
   "source": [
    "#Создаем объект класса случайный лес\n",
    "rf = ensemble.RandomForestClassifier(random_state=42)\n",
    "\n",
    "#Обучаем модель\n",
    "rf.fit(X_train, y_train)\n",
    "#Выводим значения метрики \n",
    "y_train_pred = rf.predict(X_train)\n",
    "print('f1_score на обучающем наборе: {:.2f}'.format(metrics.f1_score(y_train, y_train_pred)))\n",
    "y_test_pred = rf.predict(X_test)\n",
    "print('f1_score на тестовом наборе: {:.2f}'.format(metrics.f1_score(y_test, y_test_pred)))"
   ]
  },
  {
   "cell_type": "markdown",
   "id": "Q6PP7ObJp7WG",
   "metadata": {
    "id": "Q6PP7ObJp7WG"
   },
   "source": [
    "### <center> **GridSearchCV**"
   ]
  },
  {
   "cell_type": "code",
   "execution_count": 8,
   "id": "gLkG_sbSkBcu",
   "metadata": {
    "colab": {
     "base_uri": "https://localhost:8080/"
    },
    "executionInfo": {
     "elapsed": 71581,
     "status": "ok",
     "timestamp": 1650547968248,
     "user": {
      "displayName": "VICDS _",
      "userId": "16539764637744847477"
     },
     "user_tz": -180
    },
    "id": "gLkG_sbSkBcu",
    "outputId": "9bf92017-3d32-43fd-f801-9533285646b4"
   },
   "outputs": [
    {
     "name": "stdout",
     "output_type": "stream",
     "text": [
      "Wall time: 3min 49s\n",
      "f1_score на обучающем наборе: 0.88\n",
      "f1_score на тестовом наборе: 0.78\n",
      "Наилучшие значения гиперпараметров: {'penalty': 'l2', 'solver': 'lbfgs'}\n",
      "Наилучшая модель:\n",
      "LogisticRegression(max_iter=500, random_state=42)\n",
      "Наилучшее значение точности при кросс-валидаци: 0.75\n"
     ]
    }
   ],
   "source": [
    "from sklearn.model_selection import GridSearchCV\n",
    "\n",
    "param_grid = {'penalty': ['l2', 'none'] ,#тип регурялизации\n",
    "              'solver': ['lbfgs', 'saga'], #алгоритм оптимизации\n",
    "              }\n",
    "grid_search = GridSearchCV(\n",
    "    estimator=linear_model.LogisticRegression(\n",
    "        random_state=42, #генератор случайных чисел\n",
    "        max_iter=500 #количество итераций на сходимость\n",
    "    ), \n",
    "    param_grid=param_grid, \n",
    "    cv=5, \n",
    "    n_jobs = 50\n",
    ")  \n",
    "%time grid_search.fit(X_train, y_train)\n",
    "y_train_pred = grid_search.predict(X_train)\n",
    "print('f1_score на обучающем наборе: {:.2f}'.format(metrics.f1_score(y_train, y_train_pred))) \n",
    "y_test_pred = grid_search.predict(X_test)\n",
    "print('f1_score на тестовом наборе: {:.2f}'.format(metrics.f1_score(y_test, y_test_pred)))\n",
    "print(\"Наилучшие значения гиперпараметров: {}\".format(grid_search.best_params_))\n",
    "print(\"Наилучшая модель:\\n{}\".format(grid_search.best_estimator_))\n",
    "print(\"Наилучшее значение точности при кросс-валидаци: {:.2f}\".format(grid_search.best_score_))\n"
   ]
  },
  {
   "cell_type": "code",
   "execution_count": 9,
   "id": "34609ce5",
   "metadata": {},
   "outputs": [
    {
     "data": {
      "text/html": [
       "<div>\n",
       "<style scoped>\n",
       "    .dataframe tbody tr th:only-of-type {\n",
       "        vertical-align: middle;\n",
       "    }\n",
       "\n",
       "    .dataframe tbody tr th {\n",
       "        vertical-align: top;\n",
       "    }\n",
       "\n",
       "    .dataframe thead th {\n",
       "        text-align: right;\n",
       "    }\n",
       "</style>\n",
       "<table border=\"1\" class=\"dataframe\">\n",
       "  <thead>\n",
       "    <tr style=\"text-align: right;\">\n",
       "      <th></th>\n",
       "      <th>mean_fit_time</th>\n",
       "      <th>std_fit_time</th>\n",
       "      <th>mean_score_time</th>\n",
       "      <th>std_score_time</th>\n",
       "      <th>param_penalty</th>\n",
       "      <th>param_solver</th>\n",
       "      <th>params</th>\n",
       "      <th>split0_test_score</th>\n",
       "      <th>split1_test_score</th>\n",
       "      <th>split2_test_score</th>\n",
       "      <th>split3_test_score</th>\n",
       "      <th>split4_test_score</th>\n",
       "      <th>mean_test_score</th>\n",
       "      <th>std_test_score</th>\n",
       "      <th>rank_test_score</th>\n",
       "    </tr>\n",
       "  </thead>\n",
       "  <tbody>\n",
       "    <tr>\n",
       "      <th>0</th>\n",
       "      <td>17.321725</td>\n",
       "      <td>1.479127</td>\n",
       "      <td>0.510036</td>\n",
       "      <td>0.252319</td>\n",
       "      <td>l2</td>\n",
       "      <td>lbfgs</td>\n",
       "      <td>{'penalty': 'l2', 'solver': 'lbfgs'}</td>\n",
       "      <td>0.725000</td>\n",
       "      <td>0.748333</td>\n",
       "      <td>0.746667</td>\n",
       "      <td>0.756667</td>\n",
       "      <td>0.756667</td>\n",
       "      <td>0.746667</td>\n",
       "      <td>0.011595</td>\n",
       "      <td>1</td>\n",
       "    </tr>\n",
       "    <tr>\n",
       "      <th>1</th>\n",
       "      <td>196.771214</td>\n",
       "      <td>6.672686</td>\n",
       "      <td>0.119984</td>\n",
       "      <td>0.059911</td>\n",
       "      <td>l2</td>\n",
       "      <td>saga</td>\n",
       "      <td>{'penalty': 'l2', 'solver': 'saga'}</td>\n",
       "      <td>0.723333</td>\n",
       "      <td>0.748333</td>\n",
       "      <td>0.753333</td>\n",
       "      <td>0.756667</td>\n",
       "      <td>0.750000</td>\n",
       "      <td>0.746333</td>\n",
       "      <td>0.011851</td>\n",
       "      <td>2</td>\n",
       "    </tr>\n",
       "  </tbody>\n",
       "</table>\n",
       "</div>"
      ],
      "text/plain": [
       "   mean_fit_time  std_fit_time  mean_score_time  std_score_time param_penalty  \\\n",
       "0      17.321725      1.479127         0.510036        0.252319            l2   \n",
       "1     196.771214      6.672686         0.119984        0.059911            l2   \n",
       "\n",
       "  param_solver                                params  split0_test_score  \\\n",
       "0        lbfgs  {'penalty': 'l2', 'solver': 'lbfgs'}           0.725000   \n",
       "1         saga   {'penalty': 'l2', 'solver': 'saga'}           0.723333   \n",
       "\n",
       "   split1_test_score  split2_test_score  split3_test_score  split4_test_score  \\\n",
       "0           0.748333           0.746667           0.756667           0.756667   \n",
       "1           0.748333           0.753333           0.756667           0.750000   \n",
       "\n",
       "   mean_test_score  std_test_score  rank_test_score  \n",
       "0         0.746667        0.011595                1  \n",
       "1         0.746333        0.011851                2  "
      ]
     },
     "execution_count": 9,
     "metadata": {},
     "output_type": "execute_result"
    }
   ],
   "source": [
    "# результаты кросс-валидации\n",
    "result_cv = pd.DataFrame(grid_search.cv_results_)\n",
    "result_cv.head(2)"
   ]
  },
  {
   "cell_type": "code",
   "execution_count": 10,
   "id": "dc577f7e",
   "metadata": {},
   "outputs": [
    {
     "data": {
      "text/plain": [
       "Index(['mean_fit_time', 'std_fit_time', 'mean_score_time', 'std_score_time',\n",
       "       'param_penalty', 'param_solver', 'params', 'split0_test_score',\n",
       "       'split1_test_score', 'split2_test_score', 'split3_test_score',\n",
       "       'split4_test_score', 'mean_test_score', 'std_test_score',\n",
       "       'rank_test_score'],\n",
       "      dtype='object')"
      ]
     },
     "execution_count": 10,
     "metadata": {},
     "output_type": "execute_result"
    }
   ],
   "source": [
    "result_cv.columns"
   ]
  },
  {
   "cell_type": "code",
   "execution_count": 11,
   "id": "b6a33715",
   "metadata": {},
   "outputs": [
    {
     "name": "stdout",
     "output_type": "stream",
     "text": [
      "Wall time: 1min 31s\n",
      "f1_score на обучающем наборе: 0.93\n",
      "f1_score на тестовом наборе: 0.82\n",
      "Наилучшие значения гиперпараметров: {'max_depth': 20, 'min_samples_leaf': 7, 'n_estimators': 80}\n",
      "Наилучшая модель:\n",
      "RandomForestClassifier(max_depth=20, min_samples_leaf=7, n_estimators=80,\n",
      "                       random_state=42)\n",
      "Наилучшее значение точности при кросс-валидаци: 0.78\n"
     ]
    }
   ],
   "source": [
    "param_grid = {'n_estimators': list(range(80, 100, 10)),\n",
    "              'min_samples_leaf': [5,7],\n",
    "              'max_depth': list(np.linspace(20, 40, 5, dtype=int))\n",
    "              }\n",
    "            \n",
    "grid_search_forest = GridSearchCV(\n",
    "    estimator=ensemble.RandomForestClassifier(random_state=42), \n",
    "    param_grid=param_grid, \n",
    "    cv=5, \n",
    "    n_jobs = 50\n",
    ")  \n",
    "%time grid_search_forest.fit(X_train, y_train) \n",
    "y_train_pred = grid_search_forest.predict(X_train)\n",
    "print('f1_score на обучающем наборе: {:.2f}'.format(metrics.f1_score(y_train, y_train_pred)))\n",
    "y_test_pred = grid_search_forest.predict(X_test)\n",
    "print('f1_score на тестовом наборе: {:.2f}'.format(metrics.f1_score(y_test, y_test_pred)))\n",
    "print(\"Наилучшие значения гиперпараметров: {}\".format(grid_search_forest.best_params_))\n",
    "print(\"Наилучшая модель:\\n{}\".format(grid_search_forest.best_estimator_))\n",
    "print(\"Наилучшее значение точности при кросс-валидаци: {:.2f}\".format(grid_search_forest.best_score_))"
   ]
  },
  {
   "cell_type": "code",
   "execution_count": 12,
   "id": "fASVNY14lbzb",
   "metadata": {
    "colab": {
     "base_uri": "https://localhost:8080/",
     "height": 350
    },
    "executionInfo": {
     "elapsed": 223,
     "status": "ok",
     "timestamp": 1650548413014,
     "user": {
      "displayName": "VICDS _",
      "userId": "16539764637744847477"
     },
     "user_tz": -180
    },
    "id": "fASVNY14lbzb",
    "outputId": "c9b9a52e-c01f-453d-b410-71512b22f813"
   },
   "outputs": [
    {
     "data": {
      "text/html": [
       "<div>\n",
       "<style scoped>\n",
       "    .dataframe tbody tr th:only-of-type {\n",
       "        vertical-align: middle;\n",
       "    }\n",
       "\n",
       "    .dataframe tbody tr th {\n",
       "        vertical-align: top;\n",
       "    }\n",
       "\n",
       "    .dataframe thead th {\n",
       "        text-align: right;\n",
       "    }\n",
       "</style>\n",
       "<table border=\"1\" class=\"dataframe\">\n",
       "  <thead>\n",
       "    <tr style=\"text-align: right;\">\n",
       "      <th></th>\n",
       "      <th>mean_fit_time</th>\n",
       "      <th>std_fit_time</th>\n",
       "      <th>mean_score_time</th>\n",
       "      <th>std_score_time</th>\n",
       "      <th>param_max_depth</th>\n",
       "      <th>param_min_samples_leaf</th>\n",
       "      <th>param_n_estimators</th>\n",
       "      <th>params</th>\n",
       "      <th>split0_test_score</th>\n",
       "      <th>split1_test_score</th>\n",
       "      <th>split2_test_score</th>\n",
       "      <th>split3_test_score</th>\n",
       "      <th>split4_test_score</th>\n",
       "      <th>mean_test_score</th>\n",
       "      <th>std_test_score</th>\n",
       "      <th>rank_test_score</th>\n",
       "    </tr>\n",
       "  </thead>\n",
       "  <tbody>\n",
       "    <tr>\n",
       "      <th>0</th>\n",
       "      <td>5.325609</td>\n",
       "      <td>0.522057</td>\n",
       "      <td>1.329692</td>\n",
       "      <td>0.869363</td>\n",
       "      <td>20</td>\n",
       "      <td>5</td>\n",
       "      <td>80</td>\n",
       "      <td>{'max_depth': 20, 'min_samples_leaf': 5, 'n_es...</td>\n",
       "      <td>0.768333</td>\n",
       "      <td>0.788333</td>\n",
       "      <td>0.795000</td>\n",
       "      <td>0.776667</td>\n",
       "      <td>0.775000</td>\n",
       "      <td>0.780667</td>\n",
       "      <td>0.009638</td>\n",
       "      <td>20</td>\n",
       "    </tr>\n",
       "    <tr>\n",
       "      <th>1</th>\n",
       "      <td>13.607907</td>\n",
       "      <td>11.451097</td>\n",
       "      <td>1.788786</td>\n",
       "      <td>0.379347</td>\n",
       "      <td>20</td>\n",
       "      <td>5</td>\n",
       "      <td>90</td>\n",
       "      <td>{'max_depth': 20, 'min_samples_leaf': 5, 'n_es...</td>\n",
       "      <td>0.770000</td>\n",
       "      <td>0.793333</td>\n",
       "      <td>0.798333</td>\n",
       "      <td>0.778333</td>\n",
       "      <td>0.776667</td>\n",
       "      <td>0.783333</td>\n",
       "      <td>0.010698</td>\n",
       "      <td>7</td>\n",
       "    </tr>\n",
       "  </tbody>\n",
       "</table>\n",
       "</div>"
      ],
      "text/plain": [
       "   mean_fit_time  std_fit_time  mean_score_time  std_score_time  \\\n",
       "0       5.325609      0.522057         1.329692        0.869363   \n",
       "1      13.607907     11.451097         1.788786        0.379347   \n",
       "\n",
       "  param_max_depth param_min_samples_leaf param_n_estimators  \\\n",
       "0              20                      5                 80   \n",
       "1              20                      5                 90   \n",
       "\n",
       "                                              params  split0_test_score  \\\n",
       "0  {'max_depth': 20, 'min_samples_leaf': 5, 'n_es...           0.768333   \n",
       "1  {'max_depth': 20, 'min_samples_leaf': 5, 'n_es...           0.770000   \n",
       "\n",
       "   split1_test_score  split2_test_score  split3_test_score  split4_test_score  \\\n",
       "0           0.788333           0.795000           0.776667           0.775000   \n",
       "1           0.793333           0.798333           0.778333           0.776667   \n",
       "\n",
       "   mean_test_score  std_test_score  rank_test_score  \n",
       "0         0.780667        0.009638               20  \n",
       "1         0.783333        0.010698                7  "
      ]
     },
     "execution_count": 12,
     "metadata": {},
     "output_type": "execute_result"
    }
   ],
   "source": [
    "# результаты кросс-валидации\n",
    "result_cv = pd.DataFrame(grid_search_forest.cv_results_)\n",
    "result_cv.head(2)"
   ]
  },
  {
   "cell_type": "code",
   "execution_count": 13,
   "id": "POygdqzwlFeu",
   "metadata": {
    "colab": {
     "base_uri": "https://localhost:8080/"
    },
    "executionInfo": {
     "elapsed": 224,
     "status": "ok",
     "timestamp": 1650548413031,
     "user": {
      "displayName": "VICDS _",
      "userId": "16539764637744847477"
     },
     "user_tz": -180
    },
    "id": "POygdqzwlFeu",
    "outputId": "019d7837-bd67-41f2-e470-4a3da66c62ef"
   },
   "outputs": [
    {
     "data": {
      "text/plain": [
       "Index(['mean_fit_time', 'std_fit_time', 'mean_score_time', 'std_score_time',\n",
       "       'param_max_depth', 'param_min_samples_leaf', 'param_n_estimators',\n",
       "       'params', 'split0_test_score', 'split1_test_score', 'split2_test_score',\n",
       "       'split3_test_score', 'split4_test_score', 'mean_test_score',\n",
       "       'std_test_score', 'rank_test_score'],\n",
       "      dtype='object')"
      ]
     },
     "execution_count": 13,
     "metadata": {},
     "output_type": "execute_result"
    }
   ],
   "source": [
    "result_cv.columns"
   ]
  },
  {
   "cell_type": "markdown",
   "id": "QOlWE5zSptj0",
   "metadata": {
    "id": "QOlWE5zSptj0"
   },
   "source": [
    "### <center> **RandomizedSearchCV**"
   ]
  },
  {
   "cell_type": "code",
   "execution_count": 14,
   "id": "070b8cb6",
   "metadata": {},
   "outputs": [],
   "source": [
    "from sklearn.model_selection import RandomizedSearchCV"
   ]
  },
  {
   "cell_type": "code",
   "execution_count": 15,
   "id": "4yjUJJKntcX7",
   "metadata": {
    "colab": {
     "base_uri": "https://localhost:8080/"
    },
    "executionInfo": {
     "elapsed": 67382,
     "status": "ok",
     "timestamp": 1650548481134,
     "user": {
      "displayName": "VICDS _",
      "userId": "16539764637744847477"
     },
     "user_tz": -180
    },
    "id": "4yjUJJKntcX7",
    "outputId": "c7964d60-9c70-42f4-8f0c-217d9e568ddc"
   },
   "outputs": [
    {
     "name": "stderr",
     "output_type": "stream",
     "text": [
      "c:\\Users\\User\\anaconda3\\lib\\site-packages\\sklearn\\model_selection\\_search.py:306: UserWarning: The total space of parameters 4 is smaller than n_iter=50. Running 4 iterations. For exhaustive searches, use GridSearchCV.\n",
      "  warnings.warn(\n"
     ]
    },
    {
     "name": "stdout",
     "output_type": "stream",
     "text": [
      "Wall time: 3min 12s\n",
      "f1_score на обучающем наборе: 0.88\n",
      "f1_score на тестовом наборе: 0.78\n",
      "Наилучшие значения гиперпараметров: {'solver': 'lbfgs', 'penalty': 'l2'}\n"
     ]
    }
   ],
   "source": [
    "X_train, X_test, y_train, y_test = train_test_split(X, y, stratify=y, random_state = 1, test_size = 0.2)\n",
    "\n",
    "#np.linspace(start(от), stop(до), num=50(количество),dtype- тип данных)\n",
    "param_distributions = {'penalty': ['l2', 'none'] ,\n",
    "              'solver': ['lbfgs', 'sag']\n",
    "               },\n",
    "            \n",
    "random_search = RandomizedSearchCV(\n",
    "    estimator=linear_model.LogisticRegression(random_state=42, max_iter=500), \n",
    "    param_distributions=param_distributions, \n",
    "    cv=5, \n",
    "    n_iter = 50, \n",
    "    n_jobs = -1\n",
    ")  \n",
    "%time random_search.fit(X_train, y_train) \n",
    "y_train_pred = random_search.predict(X_train)\n",
    "print('f1_score на обучающем наборе: {:.2f}'.format(metrics.f1_score(y_train, y_train_pred)))\n",
    "y_test_pred = random_search.predict(X_test)\n",
    "print('f1_score на тестовом наборе: {:.2f}'.format(metrics.f1_score(y_test, y_test_pred)))\n",
    "print(\"Наилучшие значения гиперпараметров: {}\".format(random_search.best_params_))"
   ]
  },
  {
   "cell_type": "code",
   "execution_count": 16,
   "id": "TBSxQJ6JzS1f",
   "metadata": {
    "colab": {
     "base_uri": "https://localhost:8080/"
    },
    "executionInfo": {
     "elapsed": 116021,
     "status": "ok",
     "timestamp": 1650551380171,
     "user": {
      "displayName": "VICDS _",
      "userId": "16539764637744847477"
     },
     "user_tz": -180
    },
    "id": "TBSxQJ6JzS1f",
    "outputId": "ecddf908-16fb-4ccb-88dc-025270b99d05"
   },
   "outputs": [
    {
     "name": "stderr",
     "output_type": "stream",
     "text": [
      "c:\\Users\\User\\anaconda3\\lib\\site-packages\\sklearn\\model_selection\\_search.py:306: UserWarning: The total space of parameters 20 is smaller than n_iter=50. Running 20 iterations. For exhaustive searches, use GridSearchCV.\n",
      "  warnings.warn(\n"
     ]
    },
    {
     "name": "stdout",
     "output_type": "stream",
     "text": [
      "Wall time: 1min 2s\n",
      "f1_score на обучающем наборе: 0.93\n",
      "f1_score на тестовом наборе: 0.82\n",
      "Наилучшие значения гиперпараметров: {'n_estimators': 80, 'min_samples_leaf': 7, 'max_depth': 20}\n"
     ]
    }
   ],
   "source": [
    "param_distributions = {'n_estimators': list(range(80, 100, 10)),\n",
    "              'min_samples_leaf': [5,7],\n",
    "              'max_depth': list(np.linspace(20, 40, 5, dtype=int))\n",
    "              }\n",
    "            \n",
    "random_search_forest = RandomizedSearchCV(\n",
    "    estimator=ensemble.RandomForestClassifier(random_state=42), \n",
    "    param_distributions=param_distributions, \n",
    "    cv=5,\n",
    "    n_iter = 50,\n",
    "    n_jobs = -1\n",
    ")  \n",
    "%time random_search_forest.fit(X_train, y_train) \n",
    "y_train_pred = random_search_forest.predict(X_train)\n",
    "print('f1_score на обучающем наборе: {:.2f}'.format(metrics.f1_score(y_train, y_train_pred)))\n",
    "y_test_pred = random_search_forest.predict(X_test)\n",
    "print('f1_score на тестовом наборе: {:.2f}'.format(metrics.f1_score(y_test, y_test_pred)))\n",
    "print(\"Наилучшие значения гиперпараметров: {}\".format(random_search_forest.best_params_))"
   ]
  },
  {
   "cell_type": "markdown",
   "id": "9c224fa3-0468-4aa0-9877-057a98a92010",
   "metadata": {
    "id": "9c224fa3-0468-4aa0-9877-057a98a92010"
   },
   "source": [
    "## 3. Продвинутая оптимизация."
   ]
  },
  {
   "cell_type": "markdown",
   "id": "Kmo2b6kPChhN",
   "metadata": {
    "id": "Kmo2b6kPChhN"
   },
   "source": [
    "### <center> Hyperopt"
   ]
  },
  {
   "cell_type": "code",
   "execution_count": 17,
   "id": "Ae44foDuCzke",
   "metadata": {
    "colab": {
     "base_uri": "https://localhost:8080/"
    },
    "executionInfo": {
     "elapsed": 523,
     "status": "ok",
     "timestamp": 1650551609649,
     "user": {
      "displayName": "VICDS _",
      "userId": "16539764637744847477"
     },
     "user_tz": -180
    },
    "id": "Ae44foDuCzke",
    "outputId": "ce7bca0b-071f-4b1b-fda9-a2f13878616c"
   },
   "outputs": [
    {
     "name": "stdout",
     "output_type": "stream",
     "text": [
      "Версия Hyperopt : 0.2.5\n"
     ]
    }
   ],
   "source": [
    "#делаем импорт и выведем версию библиотеки\n",
    "from sklearn.model_selection import cross_val_score\n",
    "import hyperopt\n",
    "from hyperopt import hp, fmin, tpe, Trials\n",
    "# fmin - основная функция, она будет минимизировать наш функционал\n",
    "# tpe - алгоритм оптимизации\n",
    "# hp - включает набор методов для объявления пространства поиска гиперпараметров\n",
    "# trails - используется для логирования результатов\n",
    "\n",
    "print(\"Версия Hyperopt : {}\".format(hyperopt.__version__))"
   ]
  },
  {
   "cell_type": "code",
   "execution_count": 18,
   "id": "7f593c63",
   "metadata": {},
   "outputs": [],
   "source": [
    "X_train, X_test, y_train, y_test = train_test_split(X, y, stratify=y, random_state = 1, test_size = 0.2)"
   ]
  },
  {
   "cell_type": "code",
   "execution_count": 38,
   "id": "22b18928",
   "metadata": {},
   "outputs": [],
   "source": [
    "# зададим пространство поиска гиперпараметров\n",
    "space={'penalty': hp.choice('penalty', ['l2', 'none']),\n",
    "       'solver': hp.choice('solver', ['lbfgs', 'sag'])\n",
    "      }"
   ]
  },
  {
   "cell_type": "code",
   "execution_count": 39,
   "id": "a5c35796",
   "metadata": {},
   "outputs": [
    {
     "data": {
      "text/plain": [
       "{'penalty': 'l2', 'solver': 'sag'}"
      ]
     },
     "execution_count": 39,
     "metadata": {},
     "output_type": "execute_result"
    }
   ],
   "source": [
    "from hyperopt.pyll.stochastic import sample as ho_sample\n",
    "ho_sample(space)"
   ]
  },
  {
   "cell_type": "code",
   "execution_count": 20,
   "id": "388f15c9",
   "metadata": {},
   "outputs": [],
   "source": [
    "# зафксируем random_state\n",
    "random_state = 42\n",
    "def hyperopt_rf(params, cv=5, X=X_train, y=y_train, random_state=random_state):\n",
    "    # функция получает комбинацию гиперпараметров в \"params\"\n",
    "    params = {'penalty': params['penalty'],\n",
    "              'solver': params['solver']\n",
    "             }\n",
    "  \n",
    "    # используем эту комбинацию для построения модели\n",
    "    model = linear_model.LogisticRegression(**params, random_state=random_state)\n",
    "\n",
    "    # обучаем модель\n",
    "    model.fit(X, y)\n",
    "    score = metrics.f1_score(y, model.predict(X))\n",
    "    \n",
    "    # обучать модель можно также с помощью кросс-валидации\n",
    "    # применим  cross validation с тем же количеством фолдов\n",
    "    # score = cross_val_score(model, X, y, cv=cv, scoring=\"f1\", n_jobs=-1).mean()\n",
    "\n",
    "    # метрику необходимо минимизировать, поэтому ставим знак минус\n",
    "    return -score"
   ]
  },
  {
   "cell_type": "code",
   "execution_count": null,
   "id": "abdcc02f",
   "metadata": {},
   "outputs": [],
   "source": [
    "# начинаем подбор гиперпараметров\n",
    "#%%time\n",
    "\n",
    "trials = Trials() # используется для логирования результатов\n",
    "\n",
    "best=fmin(hyperopt_rf, # наша функция \n",
    "          space=space, # пространство гиперпараметров\n",
    "          algo=tpe.suggest, # алгоритм оптимизации, установлен по умолчанию, задавать необязательно\n",
    "          max_evals=50, # максимальное количество итераций\n",
    "          trials=trials, # логирование результатов\n",
    "          rstate=np.random.RandomState(random_state)# фиксируем для повторяемости результата\n",
    "         )\n",
    "print(\"Наилучшие значения гиперпараметров {}\".format(best))"
   ]
  },
  {
   "cell_type": "code",
   "execution_count": null,
   "id": "68046074",
   "metadata": {},
   "outputs": [],
   "source": [
    "# рассчитаем точность для тестовой выборки\n",
    "model = linear_model.LogisticRegression(\n",
    "    random_state=random_state, \n",
    "    penalty=best['penalty'],\n",
    "    solver=best['solver'])\n",
    "\n",
    "model.fit(X_train, y_train)\n",
    "y_train_pred = model.predict(X_train)\n",
    "print('f1_score на обучающем наборе: {:.2f}'.format(metrics.f1_score(y_train, y_train_pred)))\n",
    "y_test_pred = model.predict(X_test)\n",
    "print('f1_score на тестовом наборе: {:.2f}'.format(metrics.f1_score(y_test, y_test_pred)))"
   ]
  },
  {
   "cell_type": "markdown",
   "id": "z9K7uLdZ69xr",
   "metadata": {
    "id": "z9K7uLdZ69xr"
   },
   "source": [
    "Настроим оптимизацию гиперпараметров для алгоритма случайного леса."
   ]
  },
  {
   "cell_type": "code",
   "execution_count": 23,
   "id": "8dWxW_9K_qJp",
   "metadata": {
    "id": "8dWxW_9K_qJp"
   },
   "outputs": [],
   "source": [
    "# зададим пространство поиска гиперпараметров\n",
    "space={'n_estimators': hp.quniform('n_estimators', 80, 100, 10),\n",
    "       'max_depth' : hp.quniform('max_depth', 20, 40, 5),\n",
    "       'min_samples_leaf': hp.quniform('min_samples_leaf', 5, 7, 2)\n",
    "      }"
   ]
  },
  {
   "cell_type": "markdown",
   "id": "pci4SxXM_Cb4",
   "metadata": {
    "id": "pci4SxXM_Cb4"
   },
   "source": [
    "Интерфейс hyperopt отличается от Grid или RandomizedSearch, поэтому нам нужно создать функцию для минимизации, она должна принимать словарь значений гиперпараметров и возвращать значение целевой функции."
   ]
  },
  {
   "cell_type": "code",
   "execution_count": 24,
   "id": "t3JS7HXU8pd2",
   "metadata": {
    "id": "t3JS7HXU8pd2"
   },
   "outputs": [],
   "source": [
    "# зафксируем random_state\n",
    "random_state = 42\n",
    "def hyperopt_rf(params, cv=5, X=X_train, y=y_train, random_state=random_state):\n",
    "    # функция получает комбинацию гиперпараметров в \"params\"\n",
    "    params = {'n_estimators': int(params['n_estimators']), \n",
    "              'max_depth': int(params['max_depth']), \n",
    "             'min_samples_leaf': int(params['min_samples_leaf'])\n",
    "              }\n",
    "  \n",
    "    # используем эту комбинацию для построения модели\n",
    "    model = ensemble.RandomForestClassifier(**params, random_state=random_state)\n",
    "\n",
    "    # обучаем модель\n",
    "    model.fit(X, y)\n",
    "    score = metrics.f1_score(y, model.predict(X))\n",
    "    \n",
    "    # обучать модель можно также с помощью кросс-валидации\n",
    "    # применим  cross validation с тем же количеством фолдов\n",
    "    # score = cross_val_score(model, X, y, cv=cv, scoring=\"f1\", n_jobs=-1).mean()\n",
    "\n",
    "    # метрику необходимо минимизировать, поэтому ставим знак минус\n",
    "    return -score"
   ]
  },
  {
   "cell_type": "code",
   "execution_count": 25,
   "id": "qxKIThc002O1",
   "metadata": {
    "colab": {
     "base_uri": "https://localhost:8080/"
    },
    "executionInfo": {
     "elapsed": 70337,
     "status": "ok",
     "timestamp": 1650551679952,
     "user": {
      "displayName": "VICDS _",
      "userId": "16539764637744847477"
     },
     "user_tz": -180
    },
    "id": "qxKIThc002O1",
    "outputId": "4b4bea25-30cc-4c10-a4e9-9a5e9e1778aa"
   },
   "outputs": [
    {
     "name": "stdout",
     "output_type": "stream",
     "text": [
      "100%|██████████| 50/50 [01:40<00:00,  2.02s/trial, best loss: -0.9341903887358433]\n",
      "Наилучшие значения гиперпараметров {'max_depth': 30.0, 'min_samples_leaf': 6.0, 'n_estimators': 100.0}\n"
     ]
    }
   ],
   "source": [
    "# начинаем подбор гиперпараметров\n",
    "#%%time\n",
    "\n",
    "trials = Trials() # используется для логирования результатов\n",
    "\n",
    "best=fmin(hyperopt_rf, # наша функция \n",
    "          space=space, # пространство гиперпараметров\n",
    "          algo=tpe.suggest, # алгоритм оптимизации, установлен по умолчанию, задавать необязательно\n",
    "          max_evals=50, # максимальное количество итераций\n",
    "          trials=trials, # логирование результатов\n",
    "          rstate=np.random.RandomState(random_state)# фиксируем для повторяемости результата\n",
    "         )\n",
    "print(\"Наилучшие значения гиперпараметров {}\".format(best))"
   ]
  },
  {
   "cell_type": "code",
   "execution_count": 26,
   "id": "GjN-n5J601hy",
   "metadata": {
    "colab": {
     "base_uri": "https://localhost:8080/"
    },
    "executionInfo": {
     "elapsed": 4134,
     "status": "ok",
     "timestamp": 1650551683990,
     "user": {
      "displayName": "VICDS _",
      "userId": "16539764637744847477"
     },
     "user_tz": -180
    },
    "id": "GjN-n5J601hy",
    "outputId": "c777ff23-61fa-4988-b1c6-d0d44ec39792"
   },
   "outputs": [
    {
     "name": "stdout",
     "output_type": "stream",
     "text": [
      "f1_score на обучающем наборе: 0.93\n",
      "f1_score на тестовом наборе: 0.81\n"
     ]
    }
   ],
   "source": [
    "# рассчитаем точность для тестовой выборки\n",
    "model = ensemble.RandomForestClassifier(\n",
    "    random_state=random_state, \n",
    "    n_estimators=int(best['n_estimators']),\n",
    "    max_depth=int(best['max_depth']),\n",
    "    min_samples_leaf=int(best['min_samples_leaf'])\n",
    ")\n",
    "model.fit(X_train, y_train)\n",
    "y_train_pred = model.predict(X_train)\n",
    "print('f1_score на обучающем наборе: {:.2f}'.format(metrics.f1_score(y_train, y_train_pred)))\n",
    "y_test_pred = model.predict(X_test)\n",
    "print('f1_score на тестовом наборе: {:.2f}'.format(metrics.f1_score(y_test, y_test_pred)))"
   ]
  },
  {
   "cell_type": "markdown",
   "id": "b8734d51-d5d5-4424-b8a3-b341dde985b5",
   "metadata": {
    "id": "b8734d51-d5d5-4424-b8a3-b341dde985b5"
   },
   "source": [
    "## <center> Optuna"
   ]
  },
  {
   "cell_type": "code",
   "execution_count": 27,
   "id": "CQL0pyNGqQgR",
   "metadata": {
    "colab": {
     "base_uri": "https://localhost:8080/"
    },
    "executionInfo": {
     "elapsed": 1719,
     "status": "ok",
     "timestamp": 1650554415996,
     "user": {
      "displayName": "VICDS _",
      "userId": "16539764637744847477"
     },
     "user_tz": -180
    },
    "id": "CQL0pyNGqQgR",
    "outputId": "c83a3160-3f2d-4c32-9ecc-1aa6290784d7"
   },
   "outputs": [
    {
     "name": "stdout",
     "output_type": "stream",
     "text": [
      "Версия Optuna: 2.10.1\n"
     ]
    }
   ],
   "source": [
    "import optuna\n",
    "\n",
    "print(\"Версия Optuna: {}\".format(optuna.__version__))"
   ]
  },
  {
   "cell_type": "code",
   "execution_count": 28,
   "id": "f07c1654",
   "metadata": {},
   "outputs": [],
   "source": [
    "def optuna_rf(trial):\n",
    "  # задаем пространства поиска гиперпараметров\n",
    "  penalty = trial.suggest_categorical('penalty', [\"l2\", \"none\"])\n",
    "  solver = trial.suggest_categorical('solver', [\"lbfgs\", \"sag\"])\n",
    "\n",
    "  # создаем модель\n",
    "  model = linear_model.LogisticRegression(solver=solver,\n",
    "                                          penalty=penalty,\n",
    "                                          random_state=random_state,\n",
    "                                          max_iter=500)\n",
    "  # обучаем модель\n",
    "  model.fit(X_train, y_train)\n",
    "  score = metrics.f1_score(y_train, model.predict(X_train))\n",
    "\n",
    "  return score\n",
    "  "
   ]
  },
  {
   "cell_type": "code",
   "execution_count": 29,
   "id": "db1cde0a",
   "metadata": {},
   "outputs": [
    {
     "name": "stderr",
     "output_type": "stream",
     "text": [
      "\u001b[32m[I 2022-08-19 15:45:32,552]\u001b[0m A new study created in memory with name: Logistic Regression\u001b[0m\n",
      "c:\\Users\\User\\anaconda3\\lib\\site-packages\\sklearn\\linear_model\\_sag.py:350: ConvergenceWarning: The max_iter was reached which means the coef_ did not converge\n",
      "  warnings.warn(\n",
      "\u001b[32m[I 2022-08-19 15:46:11,377]\u001b[0m Trial 0 finished with value: 0.9172519083969467 and parameters: {'penalty': 'none', 'solver': 'sag'}. Best is trial 0 with value: 0.9172519083969467.\u001b[0m\n",
      "c:\\Users\\User\\anaconda3\\lib\\site-packages\\sklearn\\linear_model\\_logistic.py:444: ConvergenceWarning: lbfgs failed to converge (status=1):\n",
      "STOP: TOTAL NO. of ITERATIONS REACHED LIMIT.\n",
      "\n",
      "Increase the number of iterations (max_iter) or scale the data as shown in:\n",
      "    https://scikit-learn.org/stable/modules/preprocessing.html\n",
      "Please also refer to the documentation for alternative solver options:\n",
      "    https://scikit-learn.org/stable/modules/linear_model.html#logistic-regression\n",
      "  n_iter_i = _check_optimize_result(\n",
      "\u001b[32m[I 2022-08-19 15:46:15,293]\u001b[0m Trial 1 finished with value: 0.9640332001229635 and parameters: {'penalty': 'none', 'solver': 'lbfgs'}. Best is trial 1 with value: 0.9640332001229635.\u001b[0m\n",
      "c:\\Users\\User\\anaconda3\\lib\\site-packages\\sklearn\\linear_model\\_logistic.py:444: ConvergenceWarning: lbfgs failed to converge (status=1):\n",
      "STOP: TOTAL NO. of ITERATIONS REACHED LIMIT.\n",
      "\n",
      "Increase the number of iterations (max_iter) or scale the data as shown in:\n",
      "    https://scikit-learn.org/stable/modules/preprocessing.html\n",
      "Please also refer to the documentation for alternative solver options:\n",
      "    https://scikit-learn.org/stable/modules/linear_model.html#logistic-regression\n",
      "  n_iter_i = _check_optimize_result(\n",
      "\u001b[32m[I 2022-08-19 15:46:19,231]\u001b[0m Trial 2 finished with value: 0.9640332001229635 and parameters: {'penalty': 'none', 'solver': 'lbfgs'}. Best is trial 1 with value: 0.9640332001229635.\u001b[0m\n",
      "\u001b[32m[I 2022-08-19 15:46:22,543]\u001b[0m Trial 3 finished with value: 0.8848854961832061 and parameters: {'penalty': 'l2', 'solver': 'lbfgs'}. Best is trial 1 with value: 0.9640332001229635.\u001b[0m\n",
      "\u001b[32m[I 2022-08-19 15:46:25,852]\u001b[0m Trial 4 finished with value: 0.8848854961832061 and parameters: {'penalty': 'l2', 'solver': 'lbfgs'}. Best is trial 1 with value: 0.9640332001229635.\u001b[0m\n",
      "\u001b[32m[I 2022-08-19 15:46:56,052]\u001b[0m Trial 5 finished with value: 0.8851557727550398 and parameters: {'penalty': 'l2', 'solver': 'sag'}. Best is trial 1 with value: 0.9640332001229635.\u001b[0m\n",
      "c:\\Users\\User\\anaconda3\\lib\\site-packages\\sklearn\\linear_model\\_sag.py:350: ConvergenceWarning: The max_iter was reached which means the coef_ did not converge\n",
      "  warnings.warn(\n",
      "\u001b[32m[I 2022-08-19 15:47:31,378]\u001b[0m Trial 6 finished with value: 0.9172519083969467 and parameters: {'penalty': 'none', 'solver': 'sag'}. Best is trial 1 with value: 0.9640332001229635.\u001b[0m\n",
      "\u001b[32m[I 2022-08-19 15:47:34,792]\u001b[0m Trial 7 finished with value: 0.8848854961832061 and parameters: {'penalty': 'l2', 'solver': 'lbfgs'}. Best is trial 1 with value: 0.9640332001229635.\u001b[0m\n",
      "\u001b[32m[I 2022-08-19 15:47:38,251]\u001b[0m Trial 8 finished with value: 0.8848854961832061 and parameters: {'penalty': 'l2', 'solver': 'lbfgs'}. Best is trial 1 with value: 0.9640332001229635.\u001b[0m\n",
      "\u001b[32m[I 2022-08-19 15:48:07,163]\u001b[0m Trial 9 finished with value: 0.8851557727550398 and parameters: {'penalty': 'l2', 'solver': 'sag'}. Best is trial 1 with value: 0.9640332001229635.\u001b[0m\n",
      "c:\\Users\\User\\anaconda3\\lib\\site-packages\\sklearn\\linear_model\\_logistic.py:444: ConvergenceWarning: lbfgs failed to converge (status=1):\n",
      "STOP: TOTAL NO. of ITERATIONS REACHED LIMIT.\n",
      "\n",
      "Increase the number of iterations (max_iter) or scale the data as shown in:\n",
      "    https://scikit-learn.org/stable/modules/preprocessing.html\n",
      "Please also refer to the documentation for alternative solver options:\n",
      "    https://scikit-learn.org/stable/modules/linear_model.html#logistic-regression\n",
      "  n_iter_i = _check_optimize_result(\n",
      "\u001b[32m[I 2022-08-19 15:48:11,058]\u001b[0m Trial 10 finished with value: 0.9640332001229635 and parameters: {'penalty': 'none', 'solver': 'lbfgs'}. Best is trial 1 with value: 0.9640332001229635.\u001b[0m\n",
      "c:\\Users\\User\\anaconda3\\lib\\site-packages\\sklearn\\linear_model\\_logistic.py:444: ConvergenceWarning: lbfgs failed to converge (status=1):\n",
      "STOP: TOTAL NO. of ITERATIONS REACHED LIMIT.\n",
      "\n",
      "Increase the number of iterations (max_iter) or scale the data as shown in:\n",
      "    https://scikit-learn.org/stable/modules/preprocessing.html\n",
      "Please also refer to the documentation for alternative solver options:\n",
      "    https://scikit-learn.org/stable/modules/linear_model.html#logistic-regression\n",
      "  n_iter_i = _check_optimize_result(\n",
      "\u001b[32m[I 2022-08-19 15:48:15,014]\u001b[0m Trial 11 finished with value: 0.9640332001229635 and parameters: {'penalty': 'none', 'solver': 'lbfgs'}. Best is trial 1 with value: 0.9640332001229635.\u001b[0m\n",
      "c:\\Users\\User\\anaconda3\\lib\\site-packages\\sklearn\\linear_model\\_logistic.py:444: ConvergenceWarning: lbfgs failed to converge (status=1):\n",
      "STOP: TOTAL NO. of ITERATIONS REACHED LIMIT.\n",
      "\n",
      "Increase the number of iterations (max_iter) or scale the data as shown in:\n",
      "    https://scikit-learn.org/stable/modules/preprocessing.html\n",
      "Please also refer to the documentation for alternative solver options:\n",
      "    https://scikit-learn.org/stable/modules/linear_model.html#logistic-regression\n",
      "  n_iter_i = _check_optimize_result(\n",
      "\u001b[32m[I 2022-08-19 15:48:18,880]\u001b[0m Trial 12 finished with value: 0.9640332001229635 and parameters: {'penalty': 'none', 'solver': 'lbfgs'}. Best is trial 1 with value: 0.9640332001229635.\u001b[0m\n",
      "c:\\Users\\User\\anaconda3\\lib\\site-packages\\sklearn\\linear_model\\_logistic.py:444: ConvergenceWarning: lbfgs failed to converge (status=1):\n",
      "STOP: TOTAL NO. of ITERATIONS REACHED LIMIT.\n",
      "\n",
      "Increase the number of iterations (max_iter) or scale the data as shown in:\n",
      "    https://scikit-learn.org/stable/modules/preprocessing.html\n",
      "Please also refer to the documentation for alternative solver options:\n",
      "    https://scikit-learn.org/stable/modules/linear_model.html#logistic-regression\n",
      "  n_iter_i = _check_optimize_result(\n",
      "\u001b[32m[I 2022-08-19 15:48:22,821]\u001b[0m Trial 13 finished with value: 0.9640332001229635 and parameters: {'penalty': 'none', 'solver': 'lbfgs'}. Best is trial 1 with value: 0.9640332001229635.\u001b[0m\n",
      "c:\\Users\\User\\anaconda3\\lib\\site-packages\\sklearn\\linear_model\\_logistic.py:444: ConvergenceWarning: lbfgs failed to converge (status=1):\n",
      "STOP: TOTAL NO. of ITERATIONS REACHED LIMIT.\n",
      "\n",
      "Increase the number of iterations (max_iter) or scale the data as shown in:\n",
      "    https://scikit-learn.org/stable/modules/preprocessing.html\n",
      "Please also refer to the documentation for alternative solver options:\n",
      "    https://scikit-learn.org/stable/modules/linear_model.html#logistic-regression\n",
      "  n_iter_i = _check_optimize_result(\n",
      "\u001b[32m[I 2022-08-19 15:48:26,767]\u001b[0m Trial 14 finished with value: 0.9640332001229635 and parameters: {'penalty': 'none', 'solver': 'lbfgs'}. Best is trial 1 with value: 0.9640332001229635.\u001b[0m\n",
      "c:\\Users\\User\\anaconda3\\lib\\site-packages\\sklearn\\linear_model\\_logistic.py:444: ConvergenceWarning: lbfgs failed to converge (status=1):\n",
      "STOP: TOTAL NO. of ITERATIONS REACHED LIMIT.\n",
      "\n",
      "Increase the number of iterations (max_iter) or scale the data as shown in:\n",
      "    https://scikit-learn.org/stable/modules/preprocessing.html\n",
      "Please also refer to the documentation for alternative solver options:\n",
      "    https://scikit-learn.org/stable/modules/linear_model.html#logistic-regression\n",
      "  n_iter_i = _check_optimize_result(\n",
      "\u001b[32m[I 2022-08-19 15:48:30,698]\u001b[0m Trial 15 finished with value: 0.9640332001229635 and parameters: {'penalty': 'none', 'solver': 'lbfgs'}. Best is trial 1 with value: 0.9640332001229635.\u001b[0m\n",
      "c:\\Users\\User\\anaconda3\\lib\\site-packages\\sklearn\\linear_model\\_logistic.py:444: ConvergenceWarning: lbfgs failed to converge (status=1):\n",
      "STOP: TOTAL NO. of ITERATIONS REACHED LIMIT.\n",
      "\n",
      "Increase the number of iterations (max_iter) or scale the data as shown in:\n",
      "    https://scikit-learn.org/stable/modules/preprocessing.html\n",
      "Please also refer to the documentation for alternative solver options:\n",
      "    https://scikit-learn.org/stable/modules/linear_model.html#logistic-regression\n",
      "  n_iter_i = _check_optimize_result(\n",
      "\u001b[32m[I 2022-08-19 15:48:34,551]\u001b[0m Trial 16 finished with value: 0.9640332001229635 and parameters: {'penalty': 'none', 'solver': 'lbfgs'}. Best is trial 1 with value: 0.9640332001229635.\u001b[0m\n",
      "c:\\Users\\User\\anaconda3\\lib\\site-packages\\sklearn\\linear_model\\_logistic.py:444: ConvergenceWarning: lbfgs failed to converge (status=1):\n",
      "STOP: TOTAL NO. of ITERATIONS REACHED LIMIT.\n",
      "\n",
      "Increase the number of iterations (max_iter) or scale the data as shown in:\n",
      "    https://scikit-learn.org/stable/modules/preprocessing.html\n",
      "Please also refer to the documentation for alternative solver options:\n",
      "    https://scikit-learn.org/stable/modules/linear_model.html#logistic-regression\n",
      "  n_iter_i = _check_optimize_result(\n",
      "\u001b[32m[I 2022-08-19 15:48:38,520]\u001b[0m Trial 17 finished with value: 0.9640332001229635 and parameters: {'penalty': 'none', 'solver': 'lbfgs'}. Best is trial 1 with value: 0.9640332001229635.\u001b[0m\n",
      "c:\\Users\\User\\anaconda3\\lib\\site-packages\\sklearn\\linear_model\\_sag.py:350: ConvergenceWarning: The max_iter was reached which means the coef_ did not converge\n",
      "  warnings.warn(\n",
      "\u001b[32m[I 2022-08-19 15:49:12,283]\u001b[0m Trial 18 finished with value: 0.9172519083969467 and parameters: {'penalty': 'none', 'solver': 'sag'}. Best is trial 1 with value: 0.9640332001229635.\u001b[0m\n",
      "c:\\Users\\User\\anaconda3\\lib\\site-packages\\sklearn\\linear_model\\_logistic.py:444: ConvergenceWarning: lbfgs failed to converge (status=1):\n",
      "STOP: TOTAL NO. of ITERATIONS REACHED LIMIT.\n",
      "\n",
      "Increase the number of iterations (max_iter) or scale the data as shown in:\n",
      "    https://scikit-learn.org/stable/modules/preprocessing.html\n",
      "Please also refer to the documentation for alternative solver options:\n",
      "    https://scikit-learn.org/stable/modules/linear_model.html#logistic-regression\n",
      "  n_iter_i = _check_optimize_result(\n",
      "\u001b[32m[I 2022-08-19 15:49:16,143]\u001b[0m Trial 19 finished with value: 0.9640332001229635 and parameters: {'penalty': 'none', 'solver': 'lbfgs'}. Best is trial 1 with value: 0.9640332001229635.\u001b[0m\n",
      "c:\\Users\\User\\anaconda3\\lib\\site-packages\\sklearn\\linear_model\\_logistic.py:444: ConvergenceWarning: lbfgs failed to converge (status=1):\n",
      "STOP: TOTAL NO. of ITERATIONS REACHED LIMIT.\n",
      "\n",
      "Increase the number of iterations (max_iter) or scale the data as shown in:\n",
      "    https://scikit-learn.org/stable/modules/preprocessing.html\n",
      "Please also refer to the documentation for alternative solver options:\n",
      "    https://scikit-learn.org/stable/modules/linear_model.html#logistic-regression\n",
      "  n_iter_i = _check_optimize_result(\n",
      "\u001b[32m[I 2022-08-19 15:49:20,054]\u001b[0m Trial 20 finished with value: 0.9640332001229635 and parameters: {'penalty': 'none', 'solver': 'lbfgs'}. Best is trial 1 with value: 0.9640332001229635.\u001b[0m\n",
      "c:\\Users\\User\\anaconda3\\lib\\site-packages\\sklearn\\linear_model\\_logistic.py:444: ConvergenceWarning: lbfgs failed to converge (status=1):\n",
      "STOP: TOTAL NO. of ITERATIONS REACHED LIMIT.\n",
      "\n",
      "Increase the number of iterations (max_iter) or scale the data as shown in:\n",
      "    https://scikit-learn.org/stable/modules/preprocessing.html\n",
      "Please also refer to the documentation for alternative solver options:\n",
      "    https://scikit-learn.org/stable/modules/linear_model.html#logistic-regression\n",
      "  n_iter_i = _check_optimize_result(\n",
      "\u001b[32m[I 2022-08-19 15:49:23,896]\u001b[0m Trial 21 finished with value: 0.9640332001229635 and parameters: {'penalty': 'none', 'solver': 'lbfgs'}. Best is trial 1 with value: 0.9640332001229635.\u001b[0m\n",
      "c:\\Users\\User\\anaconda3\\lib\\site-packages\\sklearn\\linear_model\\_logistic.py:444: ConvergenceWarning: lbfgs failed to converge (status=1):\n",
      "STOP: TOTAL NO. of ITERATIONS REACHED LIMIT.\n",
      "\n",
      "Increase the number of iterations (max_iter) or scale the data as shown in:\n",
      "    https://scikit-learn.org/stable/modules/preprocessing.html\n",
      "Please also refer to the documentation for alternative solver options:\n",
      "    https://scikit-learn.org/stable/modules/linear_model.html#logistic-regression\n",
      "  n_iter_i = _check_optimize_result(\n",
      "\u001b[32m[I 2022-08-19 15:49:27,845]\u001b[0m Trial 22 finished with value: 0.9640332001229635 and parameters: {'penalty': 'none', 'solver': 'lbfgs'}. Best is trial 1 with value: 0.9640332001229635.\u001b[0m\n",
      "c:\\Users\\User\\anaconda3\\lib\\site-packages\\sklearn\\linear_model\\_logistic.py:444: ConvergenceWarning: lbfgs failed to converge (status=1):\n",
      "STOP: TOTAL NO. of ITERATIONS REACHED LIMIT.\n",
      "\n",
      "Increase the number of iterations (max_iter) or scale the data as shown in:\n",
      "    https://scikit-learn.org/stable/modules/preprocessing.html\n",
      "Please also refer to the documentation for alternative solver options:\n",
      "    https://scikit-learn.org/stable/modules/linear_model.html#logistic-regression\n",
      "  n_iter_i = _check_optimize_result(\n",
      "\u001b[32m[I 2022-08-19 15:49:32,462]\u001b[0m Trial 23 finished with value: 0.9640332001229635 and parameters: {'penalty': 'none', 'solver': 'lbfgs'}. Best is trial 1 with value: 0.9640332001229635.\u001b[0m\n",
      "c:\\Users\\User\\anaconda3\\lib\\site-packages\\sklearn\\linear_model\\_logistic.py:444: ConvergenceWarning: lbfgs failed to converge (status=1):\n",
      "STOP: TOTAL NO. of ITERATIONS REACHED LIMIT.\n",
      "\n",
      "Increase the number of iterations (max_iter) or scale the data as shown in:\n",
      "    https://scikit-learn.org/stable/modules/preprocessing.html\n",
      "Please also refer to the documentation for alternative solver options:\n",
      "    https://scikit-learn.org/stable/modules/linear_model.html#logistic-regression\n",
      "  n_iter_i = _check_optimize_result(\n",
      "\u001b[32m[I 2022-08-19 15:49:36,629]\u001b[0m Trial 24 finished with value: 0.9640332001229635 and parameters: {'penalty': 'none', 'solver': 'lbfgs'}. Best is trial 1 with value: 0.9640332001229635.\u001b[0m\n",
      "c:\\Users\\User\\anaconda3\\lib\\site-packages\\sklearn\\linear_model\\_logistic.py:444: ConvergenceWarning: lbfgs failed to converge (status=1):\n",
      "STOP: TOTAL NO. of ITERATIONS REACHED LIMIT.\n",
      "\n",
      "Increase the number of iterations (max_iter) or scale the data as shown in:\n",
      "    https://scikit-learn.org/stable/modules/preprocessing.html\n",
      "Please also refer to the documentation for alternative solver options:\n",
      "    https://scikit-learn.org/stable/modules/linear_model.html#logistic-regression\n",
      "  n_iter_i = _check_optimize_result(\n",
      "\u001b[32m[I 2022-08-19 15:49:40,556]\u001b[0m Trial 25 finished with value: 0.9640332001229635 and parameters: {'penalty': 'none', 'solver': 'lbfgs'}. Best is trial 1 with value: 0.9640332001229635.\u001b[0m\n",
      "c:\\Users\\User\\anaconda3\\lib\\site-packages\\sklearn\\linear_model\\_logistic.py:444: ConvergenceWarning: lbfgs failed to converge (status=1):\n",
      "STOP: TOTAL NO. of ITERATIONS REACHED LIMIT.\n",
      "\n",
      "Increase the number of iterations (max_iter) or scale the data as shown in:\n",
      "    https://scikit-learn.org/stable/modules/preprocessing.html\n",
      "Please also refer to the documentation for alternative solver options:\n",
      "    https://scikit-learn.org/stable/modules/linear_model.html#logistic-regression\n",
      "  n_iter_i = _check_optimize_result(\n",
      "\u001b[32m[I 2022-08-19 15:49:44,630]\u001b[0m Trial 26 finished with value: 0.9640332001229635 and parameters: {'penalty': 'none', 'solver': 'lbfgs'}. Best is trial 1 with value: 0.9640332001229635.\u001b[0m\n",
      "c:\\Users\\User\\anaconda3\\lib\\site-packages\\sklearn\\linear_model\\_sag.py:350: ConvergenceWarning: The max_iter was reached which means the coef_ did not converge\n",
      "  warnings.warn(\n",
      "\u001b[32m[I 2022-08-19 15:50:23,572]\u001b[0m Trial 27 finished with value: 0.9172519083969467 and parameters: {'penalty': 'none', 'solver': 'sag'}. Best is trial 1 with value: 0.9640332001229635.\u001b[0m\n",
      "c:\\Users\\User\\anaconda3\\lib\\site-packages\\sklearn\\linear_model\\_logistic.py:444: ConvergenceWarning: lbfgs failed to converge (status=1):\n",
      "STOP: TOTAL NO. of ITERATIONS REACHED LIMIT.\n",
      "\n",
      "Increase the number of iterations (max_iter) or scale the data as shown in:\n",
      "    https://scikit-learn.org/stable/modules/preprocessing.html\n",
      "Please also refer to the documentation for alternative solver options:\n",
      "    https://scikit-learn.org/stable/modules/linear_model.html#logistic-regression\n",
      "  n_iter_i = _check_optimize_result(\n",
      "\u001b[32m[I 2022-08-19 15:50:27,727]\u001b[0m Trial 28 finished with value: 0.9640332001229635 and parameters: {'penalty': 'none', 'solver': 'lbfgs'}. Best is trial 1 with value: 0.9640332001229635.\u001b[0m\n",
      "c:\\Users\\User\\anaconda3\\lib\\site-packages\\sklearn\\linear_model\\_sag.py:350: ConvergenceWarning: The max_iter was reached which means the coef_ did not converge\n",
      "  warnings.warn(\n",
      "\u001b[32m[I 2022-08-19 15:51:03,932]\u001b[0m Trial 29 finished with value: 0.9172519083969467 and parameters: {'penalty': 'none', 'solver': 'sag'}. Best is trial 1 with value: 0.9640332001229635.\u001b[0m\n",
      "c:\\Users\\User\\anaconda3\\lib\\site-packages\\sklearn\\linear_model\\_logistic.py:444: ConvergenceWarning: lbfgs failed to converge (status=1):\n",
      "STOP: TOTAL NO. of ITERATIONS REACHED LIMIT.\n",
      "\n",
      "Increase the number of iterations (max_iter) or scale the data as shown in:\n",
      "    https://scikit-learn.org/stable/modules/preprocessing.html\n",
      "Please also refer to the documentation for alternative solver options:\n",
      "    https://scikit-learn.org/stable/modules/linear_model.html#logistic-regression\n",
      "  n_iter_i = _check_optimize_result(\n",
      "\u001b[32m[I 2022-08-19 15:51:07,972]\u001b[0m Trial 30 finished with value: 0.9640332001229635 and parameters: {'penalty': 'none', 'solver': 'lbfgs'}. Best is trial 1 with value: 0.9640332001229635.\u001b[0m\n",
      "c:\\Users\\User\\anaconda3\\lib\\site-packages\\sklearn\\linear_model\\_logistic.py:444: ConvergenceWarning: lbfgs failed to converge (status=1):\n",
      "STOP: TOTAL NO. of ITERATIONS REACHED LIMIT.\n",
      "\n",
      "Increase the number of iterations (max_iter) or scale the data as shown in:\n",
      "    https://scikit-learn.org/stable/modules/preprocessing.html\n",
      "Please also refer to the documentation for alternative solver options:\n",
      "    https://scikit-learn.org/stable/modules/linear_model.html#logistic-regression\n",
      "  n_iter_i = _check_optimize_result(\n",
      "\u001b[32m[I 2022-08-19 15:51:12,044]\u001b[0m Trial 31 finished with value: 0.9640332001229635 and parameters: {'penalty': 'none', 'solver': 'lbfgs'}. Best is trial 1 with value: 0.9640332001229635.\u001b[0m\n",
      "c:\\Users\\User\\anaconda3\\lib\\site-packages\\sklearn\\linear_model\\_logistic.py:444: ConvergenceWarning: lbfgs failed to converge (status=1):\n",
      "STOP: TOTAL NO. of ITERATIONS REACHED LIMIT.\n",
      "\n",
      "Increase the number of iterations (max_iter) or scale the data as shown in:\n",
      "    https://scikit-learn.org/stable/modules/preprocessing.html\n",
      "Please also refer to the documentation for alternative solver options:\n",
      "    https://scikit-learn.org/stable/modules/linear_model.html#logistic-regression\n",
      "  n_iter_i = _check_optimize_result(\n",
      "\u001b[32m[I 2022-08-19 15:51:17,114]\u001b[0m Trial 32 finished with value: 0.9640332001229635 and parameters: {'penalty': 'none', 'solver': 'lbfgs'}. Best is trial 1 with value: 0.9640332001229635.\u001b[0m\n",
      "c:\\Users\\User\\anaconda3\\lib\\site-packages\\sklearn\\linear_model\\_logistic.py:444: ConvergenceWarning: lbfgs failed to converge (status=1):\n",
      "STOP: TOTAL NO. of ITERATIONS REACHED LIMIT.\n",
      "\n",
      "Increase the number of iterations (max_iter) or scale the data as shown in:\n",
      "    https://scikit-learn.org/stable/modules/preprocessing.html\n",
      "Please also refer to the documentation for alternative solver options:\n",
      "    https://scikit-learn.org/stable/modules/linear_model.html#logistic-regression\n",
      "  n_iter_i = _check_optimize_result(\n",
      "\u001b[32m[I 2022-08-19 15:51:22,669]\u001b[0m Trial 33 finished with value: 0.9640332001229635 and parameters: {'penalty': 'none', 'solver': 'lbfgs'}. Best is trial 1 with value: 0.9640332001229635.\u001b[0m\n",
      "c:\\Users\\User\\anaconda3\\lib\\site-packages\\sklearn\\linear_model\\_logistic.py:444: ConvergenceWarning: lbfgs failed to converge (status=1):\n",
      "STOP: TOTAL NO. of ITERATIONS REACHED LIMIT.\n",
      "\n",
      "Increase the number of iterations (max_iter) or scale the data as shown in:\n",
      "    https://scikit-learn.org/stable/modules/preprocessing.html\n",
      "Please also refer to the documentation for alternative solver options:\n",
      "    https://scikit-learn.org/stable/modules/linear_model.html#logistic-regression\n",
      "  n_iter_i = _check_optimize_result(\n",
      "\u001b[32m[I 2022-08-19 15:51:27,132]\u001b[0m Trial 34 finished with value: 0.9640332001229635 and parameters: {'penalty': 'none', 'solver': 'lbfgs'}. Best is trial 1 with value: 0.9640332001229635.\u001b[0m\n",
      "c:\\Users\\User\\anaconda3\\lib\\site-packages\\sklearn\\linear_model\\_logistic.py:444: ConvergenceWarning: lbfgs failed to converge (status=1):\n",
      "STOP: TOTAL NO. of ITERATIONS REACHED LIMIT.\n",
      "\n",
      "Increase the number of iterations (max_iter) or scale the data as shown in:\n",
      "    https://scikit-learn.org/stable/modules/preprocessing.html\n",
      "Please also refer to the documentation for alternative solver options:\n",
      "    https://scikit-learn.org/stable/modules/linear_model.html#logistic-regression\n",
      "  n_iter_i = _check_optimize_result(\n",
      "\u001b[32m[I 2022-08-19 15:51:31,481]\u001b[0m Trial 35 finished with value: 0.9640332001229635 and parameters: {'penalty': 'none', 'solver': 'lbfgs'}. Best is trial 1 with value: 0.9640332001229635.\u001b[0m\n",
      "\u001b[32m[I 2022-08-19 15:51:35,167]\u001b[0m Trial 36 finished with value: 0.8848854961832061 and parameters: {'penalty': 'l2', 'solver': 'lbfgs'}. Best is trial 1 with value: 0.9640332001229635.\u001b[0m\n",
      "c:\\Users\\User\\anaconda3\\lib\\site-packages\\sklearn\\linear_model\\_logistic.py:444: ConvergenceWarning: lbfgs failed to converge (status=1):\n",
      "STOP: TOTAL NO. of ITERATIONS REACHED LIMIT.\n",
      "\n",
      "Increase the number of iterations (max_iter) or scale the data as shown in:\n",
      "    https://scikit-learn.org/stable/modules/preprocessing.html\n",
      "Please also refer to the documentation for alternative solver options:\n",
      "    https://scikit-learn.org/stable/modules/linear_model.html#logistic-regression\n",
      "  n_iter_i = _check_optimize_result(\n",
      "\u001b[32m[I 2022-08-19 15:51:39,615]\u001b[0m Trial 37 finished with value: 0.9640332001229635 and parameters: {'penalty': 'none', 'solver': 'lbfgs'}. Best is trial 1 with value: 0.9640332001229635.\u001b[0m\n",
      "\u001b[32m[I 2022-08-19 15:52:11,252]\u001b[0m Trial 38 finished with value: 0.8851557727550398 and parameters: {'penalty': 'l2', 'solver': 'sag'}. Best is trial 1 with value: 0.9640332001229635.\u001b[0m\n",
      "c:\\Users\\User\\anaconda3\\lib\\site-packages\\sklearn\\linear_model\\_logistic.py:444: ConvergenceWarning: lbfgs failed to converge (status=1):\n",
      "STOP: TOTAL NO. of ITERATIONS REACHED LIMIT.\n",
      "\n",
      "Increase the number of iterations (max_iter) or scale the data as shown in:\n",
      "    https://scikit-learn.org/stable/modules/preprocessing.html\n",
      "Please also refer to the documentation for alternative solver options:\n",
      "    https://scikit-learn.org/stable/modules/linear_model.html#logistic-regression\n",
      "  n_iter_i = _check_optimize_result(\n",
      "\u001b[32m[I 2022-08-19 15:52:15,575]\u001b[0m Trial 39 finished with value: 0.9640332001229635 and parameters: {'penalty': 'none', 'solver': 'lbfgs'}. Best is trial 1 with value: 0.9640332001229635.\u001b[0m\n",
      "\u001b[32m[I 2022-08-19 15:52:19,346]\u001b[0m Trial 40 finished with value: 0.8848854961832061 and parameters: {'penalty': 'l2', 'solver': 'lbfgs'}. Best is trial 1 with value: 0.9640332001229635.\u001b[0m\n",
      "c:\\Users\\User\\anaconda3\\lib\\site-packages\\sklearn\\linear_model\\_logistic.py:444: ConvergenceWarning: lbfgs failed to converge (status=1):\n",
      "STOP: TOTAL NO. of ITERATIONS REACHED LIMIT.\n",
      "\n",
      "Increase the number of iterations (max_iter) or scale the data as shown in:\n",
      "    https://scikit-learn.org/stable/modules/preprocessing.html\n",
      "Please also refer to the documentation for alternative solver options:\n",
      "    https://scikit-learn.org/stable/modules/linear_model.html#logistic-regression\n",
      "  n_iter_i = _check_optimize_result(\n",
      "\u001b[32m[I 2022-08-19 15:52:23,918]\u001b[0m Trial 41 finished with value: 0.9640332001229635 and parameters: {'penalty': 'none', 'solver': 'lbfgs'}. Best is trial 1 with value: 0.9640332001229635.\u001b[0m\n",
      "c:\\Users\\User\\anaconda3\\lib\\site-packages\\sklearn\\linear_model\\_logistic.py:444: ConvergenceWarning: lbfgs failed to converge (status=1):\n",
      "STOP: TOTAL NO. of ITERATIONS REACHED LIMIT.\n",
      "\n",
      "Increase the number of iterations (max_iter) or scale the data as shown in:\n",
      "    https://scikit-learn.org/stable/modules/preprocessing.html\n",
      "Please also refer to the documentation for alternative solver options:\n",
      "    https://scikit-learn.org/stable/modules/linear_model.html#logistic-regression\n",
      "  n_iter_i = _check_optimize_result(\n",
      "\u001b[32m[I 2022-08-19 15:52:28,349]\u001b[0m Trial 42 finished with value: 0.9640332001229635 and parameters: {'penalty': 'none', 'solver': 'lbfgs'}. Best is trial 1 with value: 0.9640332001229635.\u001b[0m\n",
      "c:\\Users\\User\\anaconda3\\lib\\site-packages\\sklearn\\linear_model\\_logistic.py:444: ConvergenceWarning: lbfgs failed to converge (status=1):\n",
      "STOP: TOTAL NO. of ITERATIONS REACHED LIMIT.\n",
      "\n",
      "Increase the number of iterations (max_iter) or scale the data as shown in:\n",
      "    https://scikit-learn.org/stable/modules/preprocessing.html\n",
      "Please also refer to the documentation for alternative solver options:\n",
      "    https://scikit-learn.org/stable/modules/linear_model.html#logistic-regression\n",
      "  n_iter_i = _check_optimize_result(\n",
      "\u001b[32m[I 2022-08-19 15:52:32,644]\u001b[0m Trial 43 finished with value: 0.9640332001229635 and parameters: {'penalty': 'none', 'solver': 'lbfgs'}. Best is trial 1 with value: 0.9640332001229635.\u001b[0m\n",
      "c:\\Users\\User\\anaconda3\\lib\\site-packages\\sklearn\\linear_model\\_logistic.py:444: ConvergenceWarning: lbfgs failed to converge (status=1):\n",
      "STOP: TOTAL NO. of ITERATIONS REACHED LIMIT.\n",
      "\n",
      "Increase the number of iterations (max_iter) or scale the data as shown in:\n",
      "    https://scikit-learn.org/stable/modules/preprocessing.html\n",
      "Please also refer to the documentation for alternative solver options:\n",
      "    https://scikit-learn.org/stable/modules/linear_model.html#logistic-regression\n",
      "  n_iter_i = _check_optimize_result(\n",
      "\u001b[32m[I 2022-08-19 15:52:37,213]\u001b[0m Trial 44 finished with value: 0.9640332001229635 and parameters: {'penalty': 'none', 'solver': 'lbfgs'}. Best is trial 1 with value: 0.9640332001229635.\u001b[0m\n",
      "c:\\Users\\User\\anaconda3\\lib\\site-packages\\sklearn\\linear_model\\_logistic.py:444: ConvergenceWarning: lbfgs failed to converge (status=1):\n",
      "STOP: TOTAL NO. of ITERATIONS REACHED LIMIT.\n",
      "\n",
      "Increase the number of iterations (max_iter) or scale the data as shown in:\n",
      "    https://scikit-learn.org/stable/modules/preprocessing.html\n",
      "Please also refer to the documentation for alternative solver options:\n",
      "    https://scikit-learn.org/stable/modules/linear_model.html#logistic-regression\n",
      "  n_iter_i = _check_optimize_result(\n",
      "\u001b[32m[I 2022-08-19 15:52:41,838]\u001b[0m Trial 45 finished with value: 0.9640332001229635 and parameters: {'penalty': 'none', 'solver': 'lbfgs'}. Best is trial 1 with value: 0.9640332001229635.\u001b[0m\n",
      "c:\\Users\\User\\anaconda3\\lib\\site-packages\\sklearn\\linear_model\\_sag.py:350: ConvergenceWarning: The max_iter was reached which means the coef_ did not converge\n",
      "  warnings.warn(\n",
      "\u001b[32m[I 2022-08-19 15:53:18,037]\u001b[0m Trial 46 finished with value: 0.9172519083969467 and parameters: {'penalty': 'none', 'solver': 'sag'}. Best is trial 1 with value: 0.9640332001229635.\u001b[0m\n",
      "\u001b[32m[I 2022-08-19 15:53:21,601]\u001b[0m Trial 47 finished with value: 0.8848854961832061 and parameters: {'penalty': 'l2', 'solver': 'lbfgs'}. Best is trial 1 with value: 0.9640332001229635.\u001b[0m\n",
      "c:\\Users\\User\\anaconda3\\lib\\site-packages\\sklearn\\linear_model\\_logistic.py:444: ConvergenceWarning: lbfgs failed to converge (status=1):\n",
      "STOP: TOTAL NO. of ITERATIONS REACHED LIMIT.\n",
      "\n",
      "Increase the number of iterations (max_iter) or scale the data as shown in:\n",
      "    https://scikit-learn.org/stable/modules/preprocessing.html\n",
      "Please also refer to the documentation for alternative solver options:\n",
      "    https://scikit-learn.org/stable/modules/linear_model.html#logistic-regression\n",
      "  n_iter_i = _check_optimize_result(\n",
      "\u001b[32m[I 2022-08-19 15:53:25,736]\u001b[0m Trial 48 finished with value: 0.9640332001229635 and parameters: {'penalty': 'none', 'solver': 'lbfgs'}. Best is trial 1 with value: 0.9640332001229635.\u001b[0m\n",
      "c:\\Users\\User\\anaconda3\\lib\\site-packages\\sklearn\\linear_model\\_logistic.py:444: ConvergenceWarning: lbfgs failed to converge (status=1):\n",
      "STOP: TOTAL NO. of ITERATIONS REACHED LIMIT.\n",
      "\n",
      "Increase the number of iterations (max_iter) or scale the data as shown in:\n",
      "    https://scikit-learn.org/stable/modules/preprocessing.html\n",
      "Please also refer to the documentation for alternative solver options:\n",
      "    https://scikit-learn.org/stable/modules/linear_model.html#logistic-regression\n",
      "  n_iter_i = _check_optimize_result(\n",
      "\u001b[32m[I 2022-08-19 15:53:29,982]\u001b[0m Trial 49 finished with value: 0.9640332001229635 and parameters: {'penalty': 'none', 'solver': 'lbfgs'}. Best is trial 1 with value: 0.9640332001229635.\u001b[0m\n"
     ]
    },
    {
     "name": "stdout",
     "output_type": "stream",
     "text": [
      "Wall time: 7min 57s\n"
     ]
    }
   ],
   "source": [
    "%%time\n",
    "# cоздаем объект исследования\n",
    "# можем напрямую указать, что нам необходимо максимизировать метрику direction=\"maximize\"\n",
    "study = optuna.create_study(study_name=\"Logistic Regression\", direction=\"maximize\")\n",
    "# ищем лучшую комбинацию гиперпараметров n_trials раз\n",
    "study.optimize(optuna_rf, n_trials=50)"
   ]
  },
  {
   "cell_type": "code",
   "execution_count": 30,
   "id": "d5d278b5",
   "metadata": {},
   "outputs": [
    {
     "name": "stdout",
     "output_type": "stream",
     "text": [
      "Наилучшие значения гиперпараметров {'penalty': 'none', 'solver': 'lbfgs'}\n",
      "f1_score на обучающем наборе: 0.96\n"
     ]
    }
   ],
   "source": [
    "# выводим результаты на обучающей выборке\n",
    "print(\"Наилучшие значения гиперпараметров {}\".format(study.best_params))\n",
    "print(\"f1_score на обучающем наборе: {:.2f}\".format(study.best_value))"
   ]
  },
  {
   "cell_type": "code",
   "execution_count": 31,
   "id": "76d325dd",
   "metadata": {},
   "outputs": [
    {
     "name": "stdout",
     "output_type": "stream",
     "text": [
      "f1_score на обучающем наборе: 0.96\n",
      "f1_score на тестовом наборе: 0.73\n"
     ]
    },
    {
     "name": "stderr",
     "output_type": "stream",
     "text": [
      "c:\\Users\\User\\anaconda3\\lib\\site-packages\\sklearn\\linear_model\\_logistic.py:444: ConvergenceWarning: lbfgs failed to converge (status=1):\n",
      "STOP: TOTAL NO. of ITERATIONS REACHED LIMIT.\n",
      "\n",
      "Increase the number of iterations (max_iter) or scale the data as shown in:\n",
      "    https://scikit-learn.org/stable/modules/preprocessing.html\n",
      "Please also refer to the documentation for alternative solver options:\n",
      "    https://scikit-learn.org/stable/modules/linear_model.html#logistic-regression\n",
      "  n_iter_i = _check_optimize_result(\n"
     ]
    }
   ],
   "source": [
    "# рассчитаем точность для тестовой выборки\n",
    "model = linear_model.LogisticRegression(**study.best_params,random_state=random_state, max_iter=500)\n",
    "model.fit(X_train, y_train)\n",
    "y_train_pred = model.predict(X_train)\n",
    "print('f1_score на обучающем наборе: {:.2f}'.format(metrics.f1_score(y_train, y_train_pred)))\n",
    "y_test_pred = model.predict(X_test)\n",
    "print('f1_score на тестовом наборе: {:.2f}'.format(metrics.f1_score(y_test, y_test_pred)))"
   ]
  },
  {
   "cell_type": "markdown",
   "id": "PPR54ca3DbDi",
   "metadata": {
    "id": "PPR54ca3DbDi"
   },
   "source": [
    "Настроим оптимизацию гиперпараметров для алгоритма случайного леса."
   ]
  },
  {
   "cell_type": "code",
   "execution_count": 32,
   "id": "aSF_70FWu3T6",
   "metadata": {
    "id": "aSF_70FWu3T6"
   },
   "outputs": [],
   "source": [
    "def optuna_rf(trial):\n",
    "  # задаем пространства поиска гиперпараметров\n",
    "  n_estimators = trial.suggest_int('n_estimators', 80, 100, 10)\n",
    "  max_depth = trial.suggest_int('max_depth', 20, 40, 5)\n",
    "  min_samples_leaf = trial.suggest_int('min_samples_leaf', 5, 7, 2)\n",
    "\n",
    "  # создаем модель\n",
    "  model = ensemble.RandomForestClassifier(n_estimators=n_estimators,\n",
    "                                          max_depth=max_depth,\n",
    "                                          min_samples_leaf=min_samples_leaf,\n",
    "                                          random_state=random_state)\n",
    "  # обучаем модель\n",
    "  model.fit(X_train, y_train)\n",
    "  score = metrics.f1_score(y_train, model.predict(X_train))\n",
    "\n",
    "  return score\n",
    "  \n",
    "  "
   ]
  },
  {
   "cell_type": "code",
   "execution_count": 33,
   "id": "ubC21yLQpYyF",
   "metadata": {
    "colab": {
     "base_uri": "https://localhost:8080/"
    },
    "executionInfo": {
     "elapsed": 65014,
     "status": "ok",
     "timestamp": 1650551767856,
     "user": {
      "displayName": "VICDS _",
      "userId": "16539764637744847477"
     },
     "user_tz": -180
    },
    "id": "ubC21yLQpYyF",
    "outputId": "ea522f15-73ad-4e5c-9ee3-50212938acdd"
   },
   "outputs": [
    {
     "name": "stderr",
     "output_type": "stream",
     "text": [
      "\u001b[32m[I 2022-08-19 15:53:34,976]\u001b[0m A new study created in memory with name: RandomForestClassifier\u001b[0m\n",
      "\u001b[32m[I 2022-08-19 15:53:37,032]\u001b[0m Trial 0 finished with value: 0.9435803598658127 and parameters: {'n_estimators': 90, 'max_depth': 30, 'min_samples_leaf': 5}. Best is trial 0 with value: 0.9435803598658127.\u001b[0m\n",
      "\u001b[32m[I 2022-08-19 15:53:39,064]\u001b[0m Trial 1 finished with value: 0.923640806353085 and parameters: {'n_estimators': 90, 'max_depth': 35, 'min_samples_leaf': 7}. Best is trial 0 with value: 0.9435803598658127.\u001b[0m\n",
      "\u001b[32m[I 2022-08-19 15:53:40,710]\u001b[0m Trial 2 finished with value: 0.923076923076923 and parameters: {'n_estimators': 80, 'max_depth': 40, 'min_samples_leaf': 7}. Best is trial 0 with value: 0.9435803598658127.\u001b[0m\n",
      "\u001b[32m[I 2022-08-19 15:53:43,031]\u001b[0m Trial 3 finished with value: 0.9441903019213176 and parameters: {'n_estimators': 100, 'max_depth': 35, 'min_samples_leaf': 5}. Best is trial 3 with value: 0.9441903019213176.\u001b[0m\n",
      "\u001b[32m[I 2022-08-19 15:53:45,086]\u001b[0m Trial 4 finished with value: 0.942970417810308 and parameters: {'n_estimators': 100, 'max_depth': 20, 'min_samples_leaf': 5}. Best is trial 3 with value: 0.9441903019213176.\u001b[0m\n",
      "\u001b[32m[I 2022-08-19 15:53:47,126]\u001b[0m Trial 5 finished with value: 0.942970417810308 and parameters: {'n_estimators': 100, 'max_depth': 20, 'min_samples_leaf': 5}. Best is trial 3 with value: 0.9441903019213176.\u001b[0m\n",
      "\u001b[32m[I 2022-08-19 15:53:49,048]\u001b[0m Trial 6 finished with value: 0.9435803598658127 and parameters: {'n_estimators': 90, 'max_depth': 40, 'min_samples_leaf': 5}. Best is trial 3 with value: 0.9441903019213176.\u001b[0m\n",
      "\u001b[32m[I 2022-08-19 15:53:50,625]\u001b[0m Trial 7 finished with value: 0.923076923076923 and parameters: {'n_estimators': 80, 'max_depth': 25, 'min_samples_leaf': 7}. Best is trial 3 with value: 0.9441903019213176.\u001b[0m\n",
      "\u001b[32m[I 2022-08-19 15:53:52,386]\u001b[0m Trial 8 finished with value: 0.923640806353085 and parameters: {'n_estimators': 90, 'max_depth': 30, 'min_samples_leaf': 7}. Best is trial 3 with value: 0.9441903019213176.\u001b[0m\n",
      "\u001b[32m[I 2022-08-19 15:53:54,062]\u001b[0m Trial 9 finished with value: 0.9418215047212917 and parameters: {'n_estimators': 80, 'max_depth': 20, 'min_samples_leaf': 5}. Best is trial 3 with value: 0.9441903019213176.\u001b[0m\n",
      "\u001b[32m[I 2022-08-19 15:53:56,253]\u001b[0m Trial 10 finished with value: 0.9441903019213176 and parameters: {'n_estimators': 100, 'max_depth': 35, 'min_samples_leaf': 5}. Best is trial 3 with value: 0.9441903019213176.\u001b[0m\n",
      "\u001b[32m[I 2022-08-19 15:53:58,318]\u001b[0m Trial 11 finished with value: 0.9441903019213176 and parameters: {'n_estimators': 100, 'max_depth': 35, 'min_samples_leaf': 5}. Best is trial 3 with value: 0.9441903019213176.\u001b[0m\n",
      "\u001b[32m[I 2022-08-19 15:54:00,496]\u001b[0m Trial 12 finished with value: 0.9441903019213176 and parameters: {'n_estimators': 100, 'max_depth': 35, 'min_samples_leaf': 5}. Best is trial 3 with value: 0.9441903019213176.\u001b[0m\n",
      "\u001b[32m[I 2022-08-19 15:54:02,621]\u001b[0m Trial 13 finished with value: 0.9441903019213176 and parameters: {'n_estimators': 100, 'max_depth': 35, 'min_samples_leaf': 5}. Best is trial 3 with value: 0.9441903019213176.\u001b[0m\n",
      "\u001b[32m[I 2022-08-19 15:54:04,679]\u001b[0m Trial 14 finished with value: 0.9441903019213176 and parameters: {'n_estimators': 100, 'max_depth': 40, 'min_samples_leaf': 5}. Best is trial 3 with value: 0.9441903019213176.\u001b[0m\n",
      "\u001b[32m[I 2022-08-19 15:54:06,825]\u001b[0m Trial 15 finished with value: 0.9441903019213176 and parameters: {'n_estimators': 100, 'max_depth': 30, 'min_samples_leaf': 5}. Best is trial 3 with value: 0.9441903019213176.\u001b[0m\n",
      "\u001b[32m[I 2022-08-19 15:54:08,900]\u001b[0m Trial 16 finished with value: 0.945054945054945 and parameters: {'n_estimators': 90, 'max_depth': 25, 'min_samples_leaf': 5}. Best is trial 16 with value: 0.945054945054945.\u001b[0m\n",
      "\u001b[32m[I 2022-08-19 15:54:10,780]\u001b[0m Trial 17 finished with value: 0.923640806353085 and parameters: {'n_estimators': 90, 'max_depth': 25, 'min_samples_leaf': 7}. Best is trial 16 with value: 0.945054945054945.\u001b[0m\n",
      "\u001b[32m[I 2022-08-19 15:54:12,691]\u001b[0m Trial 18 finished with value: 0.945054945054945 and parameters: {'n_estimators': 90, 'max_depth': 25, 'min_samples_leaf': 5}. Best is trial 16 with value: 0.945054945054945.\u001b[0m\n",
      "\u001b[32m[I 2022-08-19 15:54:14,606]\u001b[0m Trial 19 finished with value: 0.945054945054945 and parameters: {'n_estimators': 90, 'max_depth': 25, 'min_samples_leaf': 5}. Best is trial 16 with value: 0.945054945054945.\u001b[0m\n",
      "\u001b[32m[I 2022-08-19 15:54:16,362]\u001b[0m Trial 20 finished with value: 0.923076923076923 and parameters: {'n_estimators': 80, 'max_depth': 25, 'min_samples_leaf': 7}. Best is trial 16 with value: 0.945054945054945.\u001b[0m\n",
      "\u001b[32m[I 2022-08-19 15:54:18,375]\u001b[0m Trial 21 finished with value: 0.945054945054945 and parameters: {'n_estimators': 90, 'max_depth': 25, 'min_samples_leaf': 5}. Best is trial 16 with value: 0.945054945054945.\u001b[0m\n",
      "\u001b[32m[I 2022-08-19 15:54:20,389]\u001b[0m Trial 22 finished with value: 0.945054945054945 and parameters: {'n_estimators': 90, 'max_depth': 25, 'min_samples_leaf': 5}. Best is trial 16 with value: 0.945054945054945.\u001b[0m\n",
      "\u001b[32m[I 2022-08-19 15:54:22,386]\u001b[0m Trial 23 finished with value: 0.9435803598658127 and parameters: {'n_estimators': 90, 'max_depth': 30, 'min_samples_leaf': 5}. Best is trial 16 with value: 0.945054945054945.\u001b[0m\n",
      "\u001b[32m[I 2022-08-19 15:54:24,391]\u001b[0m Trial 24 finished with value: 0.945054945054945 and parameters: {'n_estimators': 90, 'max_depth': 25, 'min_samples_leaf': 5}. Best is trial 16 with value: 0.945054945054945.\u001b[0m\n",
      "\u001b[32m[I 2022-08-19 15:54:26,380]\u001b[0m Trial 25 finished with value: 0.9438339438339438 and parameters: {'n_estimators': 90, 'max_depth': 20, 'min_samples_leaf': 5}. Best is trial 16 with value: 0.945054945054945.\u001b[0m\n",
      "\u001b[32m[I 2022-08-19 15:54:28,406]\u001b[0m Trial 26 finished with value: 0.945054945054945 and parameters: {'n_estimators': 90, 'max_depth': 25, 'min_samples_leaf': 5}. Best is trial 16 with value: 0.945054945054945.\u001b[0m\n",
      "\u001b[32m[I 2022-08-19 15:54:30,211]\u001b[0m Trial 27 finished with value: 0.9429356118400977 and parameters: {'n_estimators': 80, 'max_depth': 30, 'min_samples_leaf': 5}. Best is trial 16 with value: 0.945054945054945.\u001b[0m\n",
      "\u001b[32m[I 2022-08-19 15:54:32,199]\u001b[0m Trial 28 finished with value: 0.9438339438339438 and parameters: {'n_estimators': 90, 'max_depth': 20, 'min_samples_leaf': 5}. Best is trial 16 with value: 0.945054945054945.\u001b[0m\n",
      "\u001b[32m[I 2022-08-19 15:54:34,174]\u001b[0m Trial 29 finished with value: 0.945054945054945 and parameters: {'n_estimators': 90, 'max_depth': 25, 'min_samples_leaf': 5}. Best is trial 16 with value: 0.945054945054945.\u001b[0m\n",
      "\u001b[32m[I 2022-08-19 15:54:36,085]\u001b[0m Trial 30 finished with value: 0.9429356118400977 and parameters: {'n_estimators': 80, 'max_depth': 30, 'min_samples_leaf': 5}. Best is trial 16 with value: 0.945054945054945.\u001b[0m\n",
      "\u001b[32m[I 2022-08-19 15:54:37,996]\u001b[0m Trial 31 finished with value: 0.945054945054945 and parameters: {'n_estimators': 90, 'max_depth': 25, 'min_samples_leaf': 5}. Best is trial 16 with value: 0.945054945054945.\u001b[0m\n",
      "\u001b[32m[I 2022-08-19 15:54:39,880]\u001b[0m Trial 32 finished with value: 0.945054945054945 and parameters: {'n_estimators': 90, 'max_depth': 25, 'min_samples_leaf': 5}. Best is trial 16 with value: 0.945054945054945.\u001b[0m\n",
      "\u001b[32m[I 2022-08-19 15:54:41,841]\u001b[0m Trial 33 finished with value: 0.9435803598658127 and parameters: {'n_estimators': 90, 'max_depth': 30, 'min_samples_leaf': 5}. Best is trial 16 with value: 0.945054945054945.\u001b[0m\n",
      "\u001b[32m[I 2022-08-19 15:54:43,705]\u001b[0m Trial 34 finished with value: 0.945054945054945 and parameters: {'n_estimators': 90, 'max_depth': 25, 'min_samples_leaf': 5}. Best is trial 16 with value: 0.945054945054945.\u001b[0m\n",
      "\u001b[32m[I 2022-08-19 15:54:45,445]\u001b[0m Trial 35 finished with value: 0.9243954698500154 and parameters: {'n_estimators': 90, 'max_depth': 20, 'min_samples_leaf': 7}. Best is trial 16 with value: 0.945054945054945.\u001b[0m\n",
      "\u001b[32m[I 2022-08-19 15:54:47,295]\u001b[0m Trial 36 finished with value: 0.945054945054945 and parameters: {'n_estimators': 90, 'max_depth': 25, 'min_samples_leaf': 5}. Best is trial 16 with value: 0.945054945054945.\u001b[0m\n",
      "\u001b[32m[I 2022-08-19 15:54:49,142]\u001b[0m Trial 37 finished with value: 0.9438339438339438 and parameters: {'n_estimators': 90, 'max_depth': 20, 'min_samples_leaf': 5}. Best is trial 16 with value: 0.945054945054945.\u001b[0m\n",
      "\u001b[32m[I 2022-08-19 15:54:50,995]\u001b[0m Trial 38 finished with value: 0.945054945054945 and parameters: {'n_estimators': 90, 'max_depth': 25, 'min_samples_leaf': 5}. Best is trial 16 with value: 0.945054945054945.\u001b[0m\n",
      "\u001b[32m[I 2022-08-19 15:54:52,732]\u001b[0m Trial 39 finished with value: 0.9243954698500154 and parameters: {'n_estimators': 90, 'max_depth': 20, 'min_samples_leaf': 7}. Best is trial 16 with value: 0.945054945054945.\u001b[0m\n",
      "\u001b[32m[I 2022-08-19 15:54:54,576]\u001b[0m Trial 40 finished with value: 0.9435803598658127 and parameters: {'n_estimators': 90, 'max_depth': 30, 'min_samples_leaf': 5}. Best is trial 16 with value: 0.945054945054945.\u001b[0m\n",
      "\u001b[32m[I 2022-08-19 15:54:56,462]\u001b[0m Trial 41 finished with value: 0.945054945054945 and parameters: {'n_estimators': 90, 'max_depth': 25, 'min_samples_leaf': 5}. Best is trial 16 with value: 0.945054945054945.\u001b[0m\n",
      "\u001b[32m[I 2022-08-19 15:54:58,326]\u001b[0m Trial 42 finished with value: 0.945054945054945 and parameters: {'n_estimators': 90, 'max_depth': 25, 'min_samples_leaf': 5}. Best is trial 16 with value: 0.945054945054945.\u001b[0m\n",
      "\u001b[32m[I 2022-08-19 15:55:00,191]\u001b[0m Trial 43 finished with value: 0.945054945054945 and parameters: {'n_estimators': 90, 'max_depth': 25, 'min_samples_leaf': 5}. Best is trial 16 with value: 0.945054945054945.\u001b[0m\n",
      "\u001b[32m[I 2022-08-19 15:55:02,056]\u001b[0m Trial 44 finished with value: 0.945054945054945 and parameters: {'n_estimators': 90, 'max_depth': 25, 'min_samples_leaf': 5}. Best is trial 16 with value: 0.945054945054945.\u001b[0m\n",
      "\u001b[32m[I 2022-08-19 15:55:03,922]\u001b[0m Trial 45 finished with value: 0.9438339438339438 and parameters: {'n_estimators': 90, 'max_depth': 20, 'min_samples_leaf': 5}. Best is trial 16 with value: 0.945054945054945.\u001b[0m\n",
      "\u001b[32m[I 2022-08-19 15:55:05,605]\u001b[0m Trial 46 finished with value: 0.9429356118400977 and parameters: {'n_estimators': 80, 'max_depth': 30, 'min_samples_leaf': 5}. Best is trial 16 with value: 0.945054945054945.\u001b[0m\n",
      "\u001b[32m[I 2022-08-19 15:55:07,546]\u001b[0m Trial 47 finished with value: 0.945054945054945 and parameters: {'n_estimators': 90, 'max_depth': 25, 'min_samples_leaf': 5}. Best is trial 16 with value: 0.945054945054945.\u001b[0m\n",
      "\u001b[32m[I 2022-08-19 15:55:09,389]\u001b[0m Trial 48 finished with value: 0.9438339438339438 and parameters: {'n_estimators': 90, 'max_depth': 20, 'min_samples_leaf': 5}. Best is trial 16 with value: 0.945054945054945.\u001b[0m\n",
      "\u001b[32m[I 2022-08-19 15:55:11,419]\u001b[0m Trial 49 finished with value: 0.9441903019213176 and parameters: {'n_estimators': 100, 'max_depth': 30, 'min_samples_leaf': 5}. Best is trial 16 with value: 0.945054945054945.\u001b[0m\n"
     ]
    },
    {
     "name": "stdout",
     "output_type": "stream",
     "text": [
      "Wall time: 1min 36s\n"
     ]
    }
   ],
   "source": [
    "%%time\n",
    "# cоздаем объект исследования\n",
    "# можем напрямую указать, что нам необходимо максимизировать метрику direction=\"maximize\"\n",
    "study = optuna.create_study(study_name=\"RandomForestClassifier\", direction=\"maximize\")\n",
    "# ищем лучшую комбинацию гиперпараметров n_trials раз\n",
    "study.optimize(optuna_rf, n_trials=50)"
   ]
  },
  {
   "cell_type": "code",
   "execution_count": 34,
   "id": "6cNF33I2pYaq",
   "metadata": {
    "colab": {
     "base_uri": "https://localhost:8080/"
    },
    "executionInfo": {
     "elapsed": 89,
     "status": "ok",
     "timestamp": 1650551767860,
     "user": {
      "displayName": "VICDS _",
      "userId": "16539764637744847477"
     },
     "user_tz": -180
    },
    "id": "6cNF33I2pYaq",
    "outputId": "d21953d4-bdbe-4bb6-baae-d897096f14df"
   },
   "outputs": [
    {
     "name": "stdout",
     "output_type": "stream",
     "text": [
      "Наилучшие значения гиперпараметров {'n_estimators': 90, 'max_depth': 25, 'min_samples_leaf': 5}\n",
      "f1_score на обучающем наборе: 0.95\n"
     ]
    }
   ],
   "source": [
    "# выводим результаты на обучающей выборке\n",
    "print(\"Наилучшие значения гиперпараметров {}\".format(study.best_params))\n",
    "print(\"f1_score на обучающем наборе: {:.2f}\".format(study.best_value))"
   ]
  },
  {
   "cell_type": "code",
   "execution_count": 35,
   "id": "JlFIQ0p1pYAJ",
   "metadata": {
    "colab": {
     "base_uri": "https://localhost:8080/"
    },
    "executionInfo": {
     "elapsed": 3002,
     "status": "ok",
     "timestamp": 1650551770804,
     "user": {
      "displayName": "VICDS _",
      "userId": "16539764637744847477"
     },
     "user_tz": -180
    },
    "id": "JlFIQ0p1pYAJ",
    "outputId": "21fcd48a-c265-458d-e51c-91a68213ac33"
   },
   "outputs": [
    {
     "name": "stdout",
     "output_type": "stream",
     "text": [
      "f1_score на обучающем наборе: 0.95\n",
      "f1_score на тестовом наборе: 0.83\n"
     ]
    }
   ],
   "source": [
    "# рассчитаем точность для тестовой выборки\n",
    "model = ensemble.RandomForestClassifier(**study.best_params,random_state=random_state, )\n",
    "model.fit(X_train, y_train)\n",
    "y_train_pred = model.predict(X_train)\n",
    "print('f1_score на обучающем наборе: {:.2f}'.format(metrics.f1_score(y_train, y_train_pred)))\n",
    "y_test_pred = model.predict(X_test)\n",
    "print('f1_score на тестовом наборе: {:.2f}'.format(metrics.f1_score(y_test, y_test_pred)))"
   ]
  }
 ],
 "metadata": {
  "colab": {
   "collapsed_sections": [
    "ezanmTbEaAOe",
    "8lbyun1kaAOy",
    "M20nsIRfaAP-"
   ],
   "name": "ML-7.Optimization of hyperparameters.ipynb",
   "provenance": []
  },
  "kernelspec": {
   "display_name": "Python 3.9.7 ('base')",
   "language": "python",
   "name": "python3"
  },
  "language_info": {
   "codemirror_mode": {
    "name": "ipython",
    "version": 3
   },
   "file_extension": ".py",
   "mimetype": "text/x-python",
   "name": "python",
   "nbconvert_exporter": "python",
   "pygments_lexer": "ipython3",
   "version": "3.9.7"
  },
  "vscode": {
   "interpreter": {
    "hash": "f08154012ddadd8e950e6e9e035c7a7b32c136e7647e9b7c77e02eb723a8bedb"
   }
  }
 },
 "nbformat": 4,
 "nbformat_minor": 5
}
